{
 "cells": [
  {
   "cell_type": "code",
   "execution_count": 2,
   "id": "f2a81eaa",
   "metadata": {},
   "outputs": [
    {
     "data": {
      "text/plain": [
       "-0.016302385321834565"
      ]
     },
     "execution_count": 2,
     "metadata": {},
     "output_type": "execute_result"
    }
   ],
   "source": [
    "def shekel (x1, x2, x3, x4):\n",
    "    m = 10\n",
    "    b = [.1, .2, .2, .4, .4, .6, .3, .7, .5, .5]\n",
    "    C = [[4.0, 1.0, 8.0, 6.0, 3.0, 2.0, 5.0, 8.0, 6.0, 7.0], [4.0, 1.0, 8.0, 6.0, 7.0, 9.0, 3.0, 1.0, 2.0, 3.6],[4.0, 1.0, 8.0, 6.0, 3.0, 2.0, 5.0, 8.0, 6.0, 7.0],[4.0, 1.0, 8.0, 6.0, 7.0, 9.0, 3.0, 1.0, 2.0, 3.6]]\n",
    "    x = [x1, x2, x3, x4]\n",
    "    xjj = 0\n",
    "    Cji = 0\n",
    "\n",
    "    inner = 0\n",
    "    outer = 0\n",
    "    for i in range (m):\n",
    "        for j in range (4):\n",
    "            xjj += x[j]\n",
    "            Cji += C[j] [i]\n",
    "            inner += (xjj - Cji)**2\n",
    "\n",
    "        \n",
    "        outer += 1/(inner + b[i])\n",
    "\n",
    "\n",
    "    y = -outer\n",
    "    return (y)\n",
    "\n",
    "shekel (1, 2, 3, 4)"
   ]
  },
  {
   "cell_type": "code",
   "execution_count": null,
   "id": "a428e544",
   "metadata": {},
   "outputs": [],
   "source": []
  }
 ],
 "metadata": {
  "kernelspec": {
   "display_name": "Python 3 (ipykernel)",
   "language": "python",
   "name": "python3"
  },
  "language_info": {
   "codemirror_mode": {
    "name": "ipython",
    "version": 3
   },
   "file_extension": ".py",
   "mimetype": "text/x-python",
   "name": "python",
   "nbconvert_exporter": "python",
   "pygments_lexer": "ipython3",
   "version": "3.10.5"
  }
 },
 "nbformat": 4,
 "nbformat_minor": 5
}
