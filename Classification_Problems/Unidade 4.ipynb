{
 "cells": [
  {
   "attachments": {},
   "cell_type": "markdown",
   "metadata": {},
   "source": [
    "UNIDADE 4\n",
    "\n",
    "Neste algorítimo iremos aplicar algumas metodologias de calssificação "
   ]
  },
  {
   "attachments": {},
   "cell_type": "markdown",
   "metadata": {},
   "source": [
    "Primeiro, extraímos os dados:"
   ]
  },
  {
   "cell_type": "code",
   "execution_count": 11,
   "metadata": {},
   "outputs": [
    {
     "data": {
      "text/html": [
       "<div>\n",
       "<style scoped>\n",
       "    .dataframe tbody tr th:only-of-type {\n",
       "        vertical-align: middle;\n",
       "    }\n",
       "\n",
       "    .dataframe tbody tr th {\n",
       "        vertical-align: top;\n",
       "    }\n",
       "\n",
       "    .dataframe thead th {\n",
       "        text-align: right;\n",
       "    }\n",
       "</style>\n",
       "<table border=\"1\" class=\"dataframe\">\n",
       "  <thead>\n",
       "    <tr style=\"text-align: right;\">\n",
       "      <th></th>\n",
       "      <th>default</th>\n",
       "      <th>student</th>\n",
       "      <th>balance</th>\n",
       "      <th>income</th>\n",
       "    </tr>\n",
       "  </thead>\n",
       "  <tbody>\n",
       "    <tr>\n",
       "      <th>0</th>\n",
       "      <td>No</td>\n",
       "      <td>No</td>\n",
       "      <td>729.526495</td>\n",
       "      <td>44361.625074</td>\n",
       "    </tr>\n",
       "    <tr>\n",
       "      <th>1</th>\n",
       "      <td>No</td>\n",
       "      <td>Yes</td>\n",
       "      <td>817.180407</td>\n",
       "      <td>12106.134700</td>\n",
       "    </tr>\n",
       "    <tr>\n",
       "      <th>2</th>\n",
       "      <td>No</td>\n",
       "      <td>No</td>\n",
       "      <td>1073.549164</td>\n",
       "      <td>31767.138947</td>\n",
       "    </tr>\n",
       "    <tr>\n",
       "      <th>3</th>\n",
       "      <td>No</td>\n",
       "      <td>No</td>\n",
       "      <td>529.250605</td>\n",
       "      <td>35704.493935</td>\n",
       "    </tr>\n",
       "    <tr>\n",
       "      <th>4</th>\n",
       "      <td>No</td>\n",
       "      <td>No</td>\n",
       "      <td>785.655883</td>\n",
       "      <td>38463.495879</td>\n",
       "    </tr>\n",
       "  </tbody>\n",
       "</table>\n",
       "</div>"
      ],
      "text/plain": [
       "  default student      balance        income\n",
       "0      No      No   729.526495  44361.625074\n",
       "1      No     Yes   817.180407  12106.134700\n",
       "2      No      No  1073.549164  31767.138947\n",
       "3      No      No   529.250605  35704.493935\n",
       "4      No      No   785.655883  38463.495879"
      ]
     },
     "execution_count": 11,
     "metadata": {},
     "output_type": "execute_result"
    }
   ],
   "source": [
    "import pandas as pd\n",
    "import matplotlib.pyplot as plt\n",
    "import numpy as np\n",
    "from sklearn.linear_model import LogisticRegression, LinearRegression\n",
    "from sklearn.model_selection import train_test_split\n",
    "from sklearn.preprocessing import PolynomialFeatures\n",
    "from sklearn.metrics import confusion_matrix, accuracy_score, roc_auc_score, r2_score\n",
    "from sklearn.metrics import roc_curve, auc\n",
    "caminho_arquivo = r\"C:\\Users\\vini_\\OneDrive\\Área de Trabalho\\ALL CSV FILES - 2nd Edition\\Default.csv\"\n",
    "\n",
    "# Lendo apenas as primeiras 10 linhas do arquivo CSV\n",
    "df = pd.read_csv(caminho_arquivo)\n",
    "\n",
    "# Exibindo as primeiras 5 linhas do DataFrame\n",
    "df.head()\n",
    "\n"
   ]
  },
  {
   "attachments": {},
   "cell_type": "markdown",
   "metadata": {},
   "source": [
    "Quais parâmetros são qualitaívos?\n",
    "\n",
    "-estudantes\n",
    "\n",
    "-maus gastadores(Ficaram em débito)\n",
    "\n",
    "Por quê não usar o modelo de previsão da regressão linear? \n",
    "O problema é que se ao usar regressão linear, algumas das nossas estimativas podem \n",
    "ficar fora do modelo binários,o que complica a interpretação como probabilidades.\n",
    "-Ela não consegue prever respostas qualitatívas\n",
    "-Mesmo com 2 classes(binário), não consegue gerar um modelo de previsão efetívo"
   ]
  },
  {
   "attachments": {},
   "cell_type": "markdown",
   "metadata": {},
   "source": [
    "4.3 Usando a regressão linear"
   ]
  },
  {
   "cell_type": "code",
   "execution_count": 12,
   "metadata": {},
   "outputs": [
    {
     "name": "stdout",
     "output_type": "stream",
     "text": [
      "Coeficiente de Determinação (R²): 0.123\n",
      "Acurácia: 0.967\n",
      "AUC-ROC:  0.948\n",
      "Coeficientes: [0.00012987]\n",
      "Intercepto: -0.0751919588462226\n"
     ]
    },
    {
     "data": {
      "image/png": "[encoded data removed]",
      "text/plain": [
       "<Figure size 640x480 with 1 Axes>"
      ]
     },
     "metadata": {},
     "output_type": "display_data"
    }
   ],
   "source": [
    "# Definindo o input e o output\n",
    "X = df[['balance']]\n",
    "Y = df['default']\n",
    "\n",
    "# Substituindo o valor de 'default' por 0 e 1 (binário)\n",
    "Y = Y.replace({'No': 0, 'Yes': 1})\n",
    "\n",
    "# Objeto da regressão linear\n",
    "reg = LinearRegression()\n",
    "\n",
    "# Inserindo os valores de X e Y na regressão linear\n",
    "reg.fit(X, Y)\n",
    "\n",
    "# Fazendo a predição\n",
    "previsoes = reg.predict(X)\n",
    "\n",
    "# Calculando a acurácia\n",
    "acuracia = accuracy_score(Y, previsoes.round())\n",
    "# Calculando o coeficiente de determinação (R²)\n",
    "r = r2_score(Y, previsoes)\n",
    "\n",
    "# Imprimindo os resultados\n",
    "print(\"Coeficiente de Determinação (R²):\", round(r, 3))\n",
    "print(\"Acurácia:\", round(acuracia, 3))\n",
    "auc_roc = roc_auc_score(Y, previsoes)\n",
    "print('AUC-ROC: ', round(auc_roc, 3))\n",
    "\n",
    "#Coeficientes e intercepto\n",
    "print(\"Coeficientes:\", reg.coef_)\n",
    "print(\"Intercepto:\", reg.intercept_)\n",
    "\n",
    "# Plotando o gráfico\n",
    "plt.scatter(X, Y, color='blue', label='Dados reais', s=0.3)\n",
    "plt.plot(X, previsoes, color='red', label='Regressão Linear')\n",
    "plt.xlabel('Balance')\n",
    "plt.ylabel('Default')\n",
    "plt.title('Regressão Linear')\n",
    "plt.legend()\n",
    "plt.xlim((-1, 3000))\n",
    "plt.ylim((-0.1, 1.1))\n",
    "plt.grid()\n",
    "plt.show()\n"
   ]
  },
  {
   "attachments": {},
   "cell_type": "markdown",
   "metadata": {},
   "source": [
    "4.3 Usando a regressão logistica\n",
    "\n",
    "Os dados possuem multicolinearidade, podemos usar essa regressão"
   ]
  },
  {
   "cell_type": "code",
   "execution_count": 25,
   "metadata": {},
   "outputs": [
    {
     "name": "stderr",
     "output_type": "stream",
     "text": [
      "c:\\Users\\vini_\\AppData\\Local\\Programs\\Python\\Python310\\lib\\site-packages\\sklearn\\utils\\validation.py:1143: DataConversionWarning: A column-vector y was passed when a 1d array was expected. Please change the shape of y to (n_samples, ), for example using ravel().\n",
      "  y = column_or_1d(y, warn=True)\n",
      "c:\\Users\\vini_\\AppData\\Local\\Programs\\Python\\Python310\\lib\\site-packages\\sklearn\\base.py:439: UserWarning: X does not have valid feature names, but LogisticRegression was fitted with feature names\n",
      "  warnings.warn(\n"
     ]
    },
    {
     "name": "stdout",
     "output_type": "stream",
     "text": [
      "Coeficiente de Determinação (R²): 0.356\n",
      "Acurácia: 0.955\n",
      "AUC-ROC:  0.964\n",
      "Intercepto: [-10.6447104]\n",
      "Balanço: [[0.00547414]]\n"
     ]
    },
    {
     "data": {
      "image/png": "[encoded data removed]",
      "text/plain": [
       "<Figure size 640x480 with 1 Axes>"
      ]
     },
     "metadata": {},
     "output_type": "display_data"
    }
   ],
   "source": [
    "# Definindo o input e o output\n",
    "X = df[['balance']]\n",
    "Y = df[['default']]\n",
    "\n",
    "if not Y.empty:\n",
    "    # Substituindo o valor de 'default' por 0 e 1 (binário)\n",
    "    Y = Y.replace({'No': 0, 'Yes': 1})\n",
    "\n",
    "# Dividindo o dataset em treino e teste\n",
    "X_train, X_test, Y_train, Y_test = train_test_split(\n",
    "    X, Y, test_size=0.03333, random_state=42)\n",
    "\n",
    "# Objeto da regressão logística\n",
    "lreg = LogisticRegression()\n",
    "\n",
    "# Inserindo os valores de X e Y na regressão logística\n",
    "lreg.fit(X_train, Y_train)\n",
    "\n",
    "# Fazendo a predição das probabilidades\n",
    "# Probabilidades de classe positiva\n",
    "probas_pos = lreg.predict_proba(X_test)[:, 1]\n",
    "\n",
    "# Calculando o coeficiente de determinação (R²)\n",
    "r2 = r2_score(Y_test, probas_pos)\n",
    "\n",
    "# Calculando a acurácia\n",
    "acuracia = accuracy_score(Y_test, np.round(probas_pos))\n",
    "\n",
    "# Imprimindo os resultados\n",
    "print(\"Coeficiente de Determinação (R²):\", round(r2, 3))\n",
    "print(\"Acurácia:\", round(acuracia, 3))\n",
    "auc_roc = roc_auc_score(Y_test, probas_pos)\n",
    "print('AUC-ROC: ', round(auc_roc, 3))\n",
    "\n",
    "\n",
    "#Intercepto e balanço\n",
    "β0= lreg.intercept_\n",
    "β1= lreg.coef_\n",
    "print(\"Intercepto:\", β0)\n",
    "print(\"Balanço:\", β1)\n",
    "\n",
    "# Plotando o gráfico da sigmoide\n",
    "x_plot = np.linspace(df['balance'].min(), df['balance'].max(), 10000)\n",
    "probas_plot = lreg.predict_proba(x_plot.reshape(-1, 1))[:, 1]# NÃO SABIA ESSA PESQUISEI NO CHAT GPT\n",
    "plt.scatter(X_test, Y_test, color='blue', label='Dados reais', s=0.8)\n",
    "plt.plot(x_plot, probas_plot, color='red', label='Regressão Logística')\n",
    "plt.xlabel('Balance')\n",
    "plt.ylabel('Default')\n",
    "plt.title('Regressão Logística')\n",
    "plt.legend()\n",
    "plt.xlim((-1, 3000))\n",
    "plt.ylim((-0.1, 1.1))\n",
    "plt.grid()\n",
    "plt.show()\n"
   ]
  },
  {
   "attachments": {},
   "cell_type": "markdown",
   "metadata": {},
   "source": [
    "Com os coeficiêntes obtídos, é possível elaborar qualquer previsão\n",
    "\n",
    "β0 = -10.6447104\n",
    "β = 0.00547414\n",
    "\n",
    "Pela fórmula análoga à da regressão\n",
    "p(X) = e^(β0+β*X) / (1 + e^(β0+βX)\n"
   ]
  },
  {
   "cell_type": "code",
   "execution_count": 14,
   "metadata": {},
   "outputs": [
    {
     "name": "stdout",
     "output_type": "stream",
     "text": [
      "<class 'int'>\n",
      "A probabilidade de falha é de: 1.0\n"
     ]
    }
   ],
   "source": [
    "β0 = -10.6447104\n",
    "β = 0.00547414\n",
    "\n",
    "#k=float(input('Digite um valor de Balanço para descobrir a probabilidade de falha:\\n'))\n",
    "k = 10000\n",
    "print(type(k))\n",
    "p = np.exp((β0 + β * k)) / (1 + np.exp(β0 + β * k))\n",
    "print('A probabilidade de falha é de:', p)"
   ]
  },
  {
   "attachments": {},
   "cell_type": "markdown",
   "metadata": {},
   "source": [
    "4.3 Usando a regressão logistica multipla"
   ]
  },
  {
   "cell_type": "code",
   "execution_count": 31,
   "metadata": {},
   "outputs": [
    {
     "name": "stdout",
     "output_type": "stream",
     "text": [
      "Coeficiente de Determinação (R²): 0.394\n",
      "Acurácia: 0.961\n",
      "AUC-ROC:  0.962\n"
     ]
    },
    {
     "ename": "AttributeError",
     "evalue": "'str' object has no attribute 'ndim'",
     "output_type": "error",
     "traceback": [
      "\u001b[1;31m---------------------------------------------------------------------------\u001b[0m",
      "\u001b[1;31mAttributeError\u001b[0m                            Traceback (most recent call last)",
      "\u001b[1;32mc:\\Users\\vini_\\OneDrive\\Área de Trabalho\\PYTHON\\CORE\\Apresentacoes\\Unidade 4.ipynb Cell 12\u001b[0m in \u001b[0;36m4\n\u001b[0;32m     <a href='vscode-notebook-cell:/c%3A/Users/vini_/OneDrive/%C3%81rea%20de%20Trabalho/PYTHON/CORE/Apresentacoes/Unidade%204.ipynb#X20sZmlsZQ%3D%3D?line=36'>37</a>\u001b[0m β0 \u001b[39m=\u001b[39m lreg\u001b[39m.\u001b[39mintercept_\n\u001b[0;32m     <a href='vscode-notebook-cell:/c%3A/Users/vini_/OneDrive/%C3%81rea%20de%20Trabalho/PYTHON/CORE/Apresentacoes/Unidade%204.ipynb#X20sZmlsZQ%3D%3D?line=37'>38</a>\u001b[0m β1 \u001b[39m=\u001b[39m lreg\u001b[39m.\u001b[39mcoef_\n\u001b[1;32m---> <a href='vscode-notebook-cell:/c%3A/Users/vini_/OneDrive/%C3%81rea%20de%20Trabalho/PYTHON/CORE/Apresentacoes/Unidade%204.ipynb#X20sZmlsZQ%3D%3D?line=39'>40</a>\u001b[0m panda \u001b[39m=\u001b[39m pd\u001b[39m.\u001b[39;49mSeries(\u001b[39m'\u001b[39;49m\u001b[39mIntercepto\u001b[39;49m\u001b[39m'\u001b[39;49m, β1[\u001b[39m0\u001b[39;49m],\n\u001b[0;32m     <a href='vscode-notebook-cell:/c%3A/Users/vini_/OneDrive/%C3%81rea%20de%20Trabalho/PYTHON/CORE/Apresentacoes/Unidade%204.ipynb#X20sZmlsZQ%3D%3D?line=40'>41</a>\u001b[0m                   \u001b[39m'\u001b[39;49m\u001b[39mBalanc0\u001b[39;49m\u001b[39m'\u001b[39;49m, β1[\u001b[39m0\u001b[39;49m][\u001b[39m0\u001b[39;49m], \u001b[39m'\u001b[39;49m\u001b[39mstudent\u001b[39;49m\u001b[39m'\u001b[39;49m, β1[\u001b[39m0\u001b[39;49m][\u001b[39m1\u001b[39;49m])\n\u001b[0;32m     <a href='vscode-notebook-cell:/c%3A/Users/vini_/OneDrive/%C3%81rea%20de%20Trabalho/PYTHON/CORE/Apresentacoes/Unidade%204.ipynb#X20sZmlsZQ%3D%3D?line=41'>42</a>\u001b[0m \u001b[39mprint\u001b[39m(panda)\n\u001b[0;32m     <a href='vscode-notebook-cell:/c%3A/Users/vini_/OneDrive/%C3%81rea%20de%20Trabalho/PYTHON/CORE/Apresentacoes/Unidade%204.ipynb#X20sZmlsZQ%3D%3D?line=42'>43</a>\u001b[0m \u001b[39mprint\u001b[39m(\u001b[39m\"\u001b[39m\u001b[39mIntercepto:\u001b[39m\u001b[39m\"\u001b[39m, np\u001b[39m.\u001b[39mround(β0, decimals\u001b[39m=\u001b[39m\u001b[39m5\u001b[39m))\n",
      "File \u001b[1;32mc:\\Users\\vini_\\AppData\\Local\\Programs\\Python\\Python310\\lib\\site-packages\\pandas\\core\\series.py:407\u001b[0m, in \u001b[0;36mSeries.__init__\u001b[1;34m(self, data, index, dtype, name, copy, fastpath)\u001b[0m\n\u001b[0;32m    405\u001b[0m manager \u001b[39m=\u001b[39m get_option(\u001b[39m\"\u001b[39m\u001b[39mmode.data_manager\u001b[39m\u001b[39m\"\u001b[39m)\n\u001b[0;32m    406\u001b[0m \u001b[39mif\u001b[39;00m manager \u001b[39m==\u001b[39m \u001b[39m\"\u001b[39m\u001b[39mblock\u001b[39m\u001b[39m\"\u001b[39m:\n\u001b[1;32m--> 407\u001b[0m     data \u001b[39m=\u001b[39m SingleBlockManager\u001b[39m.\u001b[39;49mfrom_array(data, index)\n\u001b[0;32m    408\u001b[0m \u001b[39melif\u001b[39;00m manager \u001b[39m==\u001b[39m \u001b[39m\"\u001b[39m\u001b[39marray\u001b[39m\u001b[39m\"\u001b[39m:\n\u001b[0;32m    409\u001b[0m     data \u001b[39m=\u001b[39m SingleArrayManager\u001b[39m.\u001b[39mfrom_array(data, index)\n",
      "File \u001b[1;32mc:\\Users\\vini_\\AppData\\Local\\Programs\\Python\\Python310\\lib\\site-packages\\pandas\\core\\internals\\managers.py:1880\u001b[0m, in \u001b[0;36mSingleBlockManager.from_array\u001b[1;34m(cls, array, index, refs)\u001b[0m\n\u001b[0;32m   1873\u001b[0m \u001b[39m@classmethod\u001b[39m\n\u001b[0;32m   1874\u001b[0m \u001b[39mdef\u001b[39;00m \u001b[39mfrom_array\u001b[39m(\n\u001b[0;32m   1875\u001b[0m     \u001b[39mcls\u001b[39m, array: ArrayLike, index: Index, refs: BlockValuesRefs \u001b[39m|\u001b[39m \u001b[39mNone\u001b[39;00m \u001b[39m=\u001b[39m \u001b[39mNone\u001b[39;00m\n\u001b[0;32m   1876\u001b[0m ) \u001b[39m-\u001b[39m\u001b[39m>\u001b[39m SingleBlockManager:\n\u001b[0;32m   1877\u001b[0m     \u001b[39m\"\"\"\u001b[39;00m\n\u001b[0;32m   1878\u001b[0m \u001b[39m    Constructor for if we have an array that is not yet a Block.\u001b[39;00m\n\u001b[0;32m   1879\u001b[0m \u001b[39m    \"\"\"\u001b[39;00m\n\u001b[1;32m-> 1880\u001b[0m     block \u001b[39m=\u001b[39m new_block(array, placement\u001b[39m=\u001b[39;49m\u001b[39mslice\u001b[39;49m(\u001b[39m0\u001b[39;49m, \u001b[39mlen\u001b[39;49m(index)), ndim\u001b[39m=\u001b[39;49m\u001b[39m1\u001b[39;49m, refs\u001b[39m=\u001b[39;49mrefs)\n\u001b[0;32m   1881\u001b[0m     \u001b[39mreturn\u001b[39;00m \u001b[39mcls\u001b[39m(block, index)\n",
      "File \u001b[1;32mc:\\Users\\vini_\\AppData\\Local\\Programs\\Python\\Python310\\lib\\site-packages\\pandas\\core\\internals\\blocks.py:2391\u001b[0m, in \u001b[0;36mnew_block\u001b[1;34m(values, placement, ndim, refs)\u001b[0m\n\u001b[0;32m   2388\u001b[0m \u001b[39mif\u001b[39;00m \u001b[39mnot\u001b[39;00m \u001b[39misinstance\u001b[39m(placement, BlockPlacement):\n\u001b[0;32m   2389\u001b[0m     placement \u001b[39m=\u001b[39m BlockPlacement(placement)\n\u001b[1;32m-> 2391\u001b[0m check_ndim(values, placement, ndim)\n\u001b[0;32m   2393\u001b[0m klass \u001b[39m=\u001b[39m get_block_type(values\u001b[39m.\u001b[39mdtype)\n\u001b[0;32m   2395\u001b[0m values \u001b[39m=\u001b[39m maybe_coerce_values(values)\n",
      "File \u001b[1;32mc:\\Users\\vini_\\AppData\\Local\\Programs\\Python\\Python310\\lib\\site-packages\\pandas\\core\\internals\\blocks.py:2417\u001b[0m, in \u001b[0;36mcheck_ndim\u001b[1;34m(values, placement, ndim)\u001b[0m\n\u001b[0;32m   2399\u001b[0m \u001b[39mdef\u001b[39;00m \u001b[39mcheck_ndim\u001b[39m(values, placement: BlockPlacement, ndim: \u001b[39mint\u001b[39m) \u001b[39m-\u001b[39m\u001b[39m>\u001b[39m \u001b[39mNone\u001b[39;00m:\n\u001b[0;32m   2400\u001b[0m     \u001b[39m\"\"\"\u001b[39;00m\n\u001b[0;32m   2401\u001b[0m \u001b[39m    ndim inference and validation.\u001b[39;00m\n\u001b[0;32m   2402\u001b[0m \n\u001b[1;32m   (...)\u001b[0m\n\u001b[0;32m   2414\u001b[0m \u001b[39m    ValueError : the number of dimensions do not match\u001b[39;00m\n\u001b[0;32m   2415\u001b[0m \u001b[39m    \"\"\"\u001b[39;00m\n\u001b[1;32m-> 2417\u001b[0m     \u001b[39mif\u001b[39;00m values\u001b[39m.\u001b[39;49mndim \u001b[39m>\u001b[39m ndim:\n\u001b[0;32m   2418\u001b[0m         \u001b[39m# Check for both np.ndarray and ExtensionArray\u001b[39;00m\n\u001b[0;32m   2419\u001b[0m         \u001b[39mraise\u001b[39;00m \u001b[39mValueError\u001b[39;00m(\n\u001b[0;32m   2420\u001b[0m             \u001b[39m\"\u001b[39m\u001b[39mWrong number of dimensions. \u001b[39m\u001b[39m\"\u001b[39m\n\u001b[0;32m   2421\u001b[0m             \u001b[39mf\u001b[39m\u001b[39m\"\u001b[39m\u001b[39mvalues.ndim > ndim [\u001b[39m\u001b[39m{\u001b[39;00mvalues\u001b[39m.\u001b[39mndim\u001b[39m}\u001b[39;00m\u001b[39m > \u001b[39m\u001b[39m{\u001b[39;00mndim\u001b[39m}\u001b[39;00m\u001b[39m]\u001b[39m\u001b[39m\"\u001b[39m\n\u001b[0;32m   2422\u001b[0m         )\n\u001b[0;32m   2424\u001b[0m     \u001b[39mif\u001b[39;00m \u001b[39mnot\u001b[39;00m is_1d_only_ea_dtype(values\u001b[39m.\u001b[39mdtype):\n\u001b[0;32m   2425\u001b[0m         \u001b[39m# TODO(EA2D): special case not needed with 2D EAs\u001b[39;00m\n",
      "\u001b[1;31mAttributeError\u001b[0m: 'str' object has no attribute 'ndim'"
     ]
    }
   ],
   "source": [
    "# Substituindo o valor de 'default' por 0 e 1 (binário)\n",
    "df['default'].replace({'Yes': 1, 'No': 0}, inplace=True)\n",
    "# Substituindo o valor de 'student' por 0 e 1 (binário)\n",
    "df['student'].replace({'Yes': 1, 'No': 0}, inplace=True)\n",
    "\n",
    "X = df[['balance', 'student']]\n",
    "Y = df['default']\n",
    "\n",
    "# Dividindo o dataset em treino e teste\n",
    "X_train, X_test, Y_train, Y_test = train_test_split(\n",
    "    X, Y, test_size=0.03333, random_state=42)\n",
    "\n",
    "# Objeto da regressão logística\n",
    "lreg = LogisticRegression()\n",
    "\n",
    "# Inserindo os valores de X e Y na regressão logística\n",
    "lreg.fit(X_train, Y_train)\n",
    "\n",
    "# Fazendo a predição das probabilidades\n",
    "# Probabilidades de classe positiva\n",
    "probas_pos = lreg.predict_proba(X_test)[:, 1]\n",
    "\n",
    "# Calculando o coeficiente de determinação (R²)\n",
    "r2 = r2_score(Y_test, probas_pos)\n",
    "\n",
    "# Calculando a acurácia\n",
    "acuracia = accuracy_score(Y_test, np.round(probas_pos))\n",
    "\n",
    "# Imprimindo os resultados\n",
    "print(\"Coeficiente de Determinação (R²):\", round(r2, 3))\n",
    "print(\"Acurácia:\", round(acuracia, 3))\n",
    "auc_roc = roc_auc_score(Y_test, probas_pos)\n",
    "print('AUC-ROC: ', round(auc_roc, 3))\n",
    "\n",
    "\n",
    "#Intercepto e balanço\n",
    "β0 = lreg.intercept_\n",
    "β1 = lreg.coef_\n",
    "\n",
    "panda = pd.Series('Intercepto', β1[0],\n",
    "                  'Balanc0', β1[0][0], 'student', β1[0][1])\n",
    "print(panda)\n",
    "print(\"Intercepto:\", np.round(β0, decimals=5))\n",
    "print(\"Balanço:\", np.round(β1[0][0],decimals=5))\n",
    "print(\"Estudante:\", np.round(β1[0][1],decimals=5))\n",
    "\n",
    "# Plotando o gráfico da sigmoide\n",
    "x_plot = np.linspace(df['balance'].min(), df['balance'].max(), 10000)\n",
    "probas_plot = lreg.predict_proba(\n",
    "    np.column_stack((x_plot, np.zeros_like(x_plot))))[:, 1]\n",
    "plt.scatter(X_test['balance'], Y_test, color='blue',\n",
    "            label='Dados reais', s=0.8)\n",
    "plt.plot(x_plot, probas_plot, color='red', label='Regressão Logística')\n",
    "plt.xlabel('Balance')\n",
    "plt.ylabel('Default')\n",
    "plt.title('Regressão Logística')\n",
    "plt.legend()\n",
    "plt.xlim((-1, 3000))\n",
    "plt.ylim((-0.1, 1.1))\n",
    "plt.grid()\n",
    "plt.show()\n"
   ]
  }
 ],
 "metadata": {
  "kernelspec": {
   "display_name": "Python 3",
   "language": "python",
   "name": "python3"
  },
  "language_info": {
   "codemirror_mode": {
    "name": "ipython",
    "version": 3
   },
   "file_extension": ".py",
   "mimetype": "text/x-python",
   "name": "python",
   "nbconvert_exporter": "python",
   "pygments_lexer": "ipython3",
   "version": "3.10.7"
  },
  "orig_nbformat": 4
 },
 "nbformat": 4,
 "nbformat_minor": 2
}
