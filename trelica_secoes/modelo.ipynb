{
 "cells": [
  {
   "cell_type": "code",
   "execution_count": 6,
   "metadata": {},
   "outputs": [],
   "source": [
    "import pandas as pd\n",
    "import statsmodels.api as sm\n",
    "import numpy as np\n"
   ]
  },
  {
   "cell_type": "code",
   "execution_count": 7,
   "metadata": {},
   "outputs": [],
   "source": [
    "data = pd.read_excel(f\"C:\\\\Users\\\\Leonardo\\\\Desktop\\\\Projetos Python\\\\Pesquisa\\\\trelica_secoes\\\\output_10.xlsx\")"
   ]
  },
  {
   "cell_type": "code",
   "execution_count": 8,
   "metadata": {},
   "outputs": [],
   "source": [
    "data = data.drop('Unnamed: 0', axis = 1)"
   ]
  },
  {
   "cell_type": "code",
   "execution_count": 9,
   "metadata": {},
   "outputs": [
    {
     "data": {
      "text/plain": [
       "Index(['Section G0', 'Section G1', 'Section G2', 'Section G3', 'Section G4',\n",
       "       'Section G5', 'Section G6', 'Material G0', 'Material G1', 'Material G2',\n",
       "       'Material G3', 'Material G4', 'Material G5', 'Material G6', 'Fx', 'Fy',\n",
       "       'desloc_x', 'desloc_y', 'Tension G0', 'Tension G1', 'Tension G2',\n",
       "       'Tension G3', 'Tension G4', 'Tension G5', 'Tension G6'],\n",
       "      dtype='object')"
      ]
     },
     "execution_count": 9,
     "metadata": {},
     "output_type": "execute_result"
    }
   ],
   "source": [
    "data.columns"
   ]
  },
  {
   "cell_type": "code",
   "execution_count": 10,
   "metadata": {},
   "outputs": [],
   "source": [
    "data = data.drop(['Material G0', 'Material G1', 'Material G2',\n",
    "       'Material G3', 'Material G4', 'Material G5', 'Material G6', 'Fx','desloc_x', 'Tension G0', 'Tension G1', 'Tension G2',\n",
    "       'Tension G3', 'Tension G4', 'Tension G5', 'Tension G6', 'Fy'], axis = 1)"
   ]
  },
  {
   "cell_type": "code",
   "execution_count": 11,
   "metadata": {},
   "outputs": [],
   "source": [
    "x = data.drop('desloc_y', axis = 1)\n",
    "y = data['desloc_y']"
   ]
  },
  {
   "cell_type": "markdown",
   "metadata": {},
   "source": [
    "10 EXEMPLOS"
   ]
  },
  {
   "cell_type": "code",
   "execution_count": 12,
   "metadata": {},
   "outputs": [
    {
     "name": "stdout",
     "output_type": "stream",
     "text": [
      "                            OLS Regression Results                            \n",
      "==============================================================================\n",
      "Dep. Variable:               desloc_y   R-squared:                       0.981\n",
      "Model:                            OLS   Adj. R-squared:                  0.916\n",
      "Method:                 Least Squares   F-statistic:                     15.01\n",
      "Date:                Sat, 08 Apr 2023   Prob (F-statistic):             0.0638\n",
      "Time:                        18:34:36   Log-Likelihood:                 70.053\n",
      "No. Observations:                  10   AIC:                            -124.1\n",
      "Df Residuals:                       2   BIC:                            -121.7\n",
      "Df Model:                           7                                         \n",
      "Covariance Type:            nonrobust                                         \n",
      "==============================================================================\n",
      "                 coef    std err          t      P>|t|      [0.025      0.975]\n",
      "------------------------------------------------------------------------------\n",
      "const         -0.0296      0.003     -9.621      0.011      -0.043      -0.016\n",
      "Section G0     9.1774      1.712      5.362      0.033       1.813      16.542\n",
      "Section G1     1.5190      2.301      0.660      0.577      -8.382      11.420\n",
      "Section G2     9.8111      3.433      2.858      0.104      -4.958      24.580\n",
      "Section G3     5.1685      1.527      3.385      0.077      -1.401      11.738\n",
      "Section G4     1.2697      3.847      0.330      0.773     -15.284      17.824\n",
      "Section G5     2.6993      2.860      0.944      0.445      -9.606      15.004\n",
      "Section G6    10.6198      1.912      5.555      0.031       2.394      18.845\n",
      "==============================================================================\n",
      "Omnibus:                        1.636   Durbin-Watson:                   1.329\n",
      "Prob(Omnibus):                  0.441   Jarque-Bera (JB):                0.831\n",
      "Skew:                           0.682   Prob(JB):                        0.660\n",
      "Kurtosis:                       2.635   Cond. No.                     3.63e+04\n",
      "==============================================================================\n",
      "\n",
      "Notes:\n",
      "[1] Standard Errors assume that the covariance matrix of the errors is correctly specified.\n",
      "[2] The condition number is large, 3.63e+04. This might indicate that there are\n",
      "strong multicollinearity or other numerical problems.\n"
     ]
    },
    {
     "name": "stderr",
     "output_type": "stream",
     "text": [
      "C:\\Users\\Leonardo\\AppData\\Local\\Packages\\PythonSoftwareFoundation.Python.3.10_qbz5n2kfra8p0\\LocalCache\\local-packages\\Python310\\site-packages\\scipy\\stats\\_stats_py.py:1772: UserWarning: kurtosistest only valid for n>=20 ... continuing anyway, n=10\n",
      "  warnings.warn(\"kurtosistest only valid for n>=20 ... continuing \"\n"
     ]
    }
   ],
   "source": [
    "x_train_sm = sm.add_constant(x)\n",
    "lr= sm.OLS(y,x_train_sm).fit()\n",
    "print(lr.summary())\n"
   ]
  },
  {
   "cell_type": "code",
   "execution_count": 13,
   "metadata": {},
   "outputs": [],
   "source": [
    "data2 = pd.read_excel(f\"C:\\\\Users\\\\Leonardo\\Desktop\\\\Projetos Python\\\\Pesquisa\\\\trelica_secoes\\\\output_100.xlsx\")"
   ]
  },
  {
   "cell_type": "code",
   "execution_count": 14,
   "metadata": {},
   "outputs": [],
   "source": [
    "data2 = data2.drop('Unnamed: 0', axis = 1)\n",
    "data2 = data2.drop(['Material G0', 'Material G1', 'Material G2',\n",
    "       'Material G3', 'Material G4', 'Material G5', 'Material G6', 'Fx','desloc_x', 'Tension G0', 'Tension G1', 'Tension G2',\n",
    "       'Tension G3', 'Tension G4', 'Tension G5', 'Tension G6', 'Fy'], axis = 1)"
   ]
  },
  {
   "cell_type": "markdown",
   "metadata": {},
   "source": [
    "100 EXEMPLOS    "
   ]
  },
  {
   "cell_type": "code",
   "execution_count": 15,
   "metadata": {},
   "outputs": [
    {
     "name": "stdout",
     "output_type": "stream",
     "text": [
      "                            OLS Regression Results                            \n",
      "==============================================================================\n",
      "Dep. Variable:               desloc_y   R-squared:                       0.981\n",
      "Model:                            OLS   Adj. R-squared:                  0.916\n",
      "Method:                 Least Squares   F-statistic:                     15.01\n",
      "Date:                Sat, 08 Apr 2023   Prob (F-statistic):             0.0638\n",
      "Time:                        18:34:37   Log-Likelihood:                 70.053\n",
      "No. Observations:                  10   AIC:                            -124.1\n",
      "Df Residuals:                       2   BIC:                            -121.7\n",
      "Df Model:                           7                                         \n",
      "Covariance Type:            nonrobust                                         \n",
      "==============================================================================\n",
      "                 coef    std err          t      P>|t|      [0.025      0.975]\n",
      "------------------------------------------------------------------------------\n",
      "const         -0.0296      0.003     -9.621      0.011      -0.043      -0.016\n",
      "Section G0     9.1774      1.712      5.362      0.033       1.813      16.542\n",
      "Section G1     1.5190      2.301      0.660      0.577      -8.382      11.420\n",
      "Section G2     9.8111      3.433      2.858      0.104      -4.958      24.580\n",
      "Section G3     5.1685      1.527      3.385      0.077      -1.401      11.738\n",
      "Section G4     1.2697      3.847      0.330      0.773     -15.284      17.824\n",
      "Section G5     2.6993      2.860      0.944      0.445      -9.606      15.004\n",
      "Section G6    10.6198      1.912      5.555      0.031       2.394      18.845\n",
      "==============================================================================\n",
      "Omnibus:                        1.636   Durbin-Watson:                   1.329\n",
      "Prob(Omnibus):                  0.441   Jarque-Bera (JB):                0.831\n",
      "Skew:                           0.682   Prob(JB):                        0.660\n",
      "Kurtosis:                       2.635   Cond. No.                     3.63e+04\n",
      "==============================================================================\n",
      "\n",
      "Notes:\n",
      "[1] Standard Errors assume that the covariance matrix of the errors is correctly specified.\n",
      "[2] The condition number is large, 3.63e+04. This might indicate that there are\n",
      "strong multicollinearity or other numerical problems.\n"
     ]
    },
    {
     "name": "stderr",
     "output_type": "stream",
     "text": [
      "C:\\Users\\Leonardo\\AppData\\Local\\Packages\\PythonSoftwareFoundation.Python.3.10_qbz5n2kfra8p0\\LocalCache\\local-packages\\Python310\\site-packages\\scipy\\stats\\_stats_py.py:1772: UserWarning: kurtosistest only valid for n>=20 ... continuing anyway, n=10\n",
      "  warnings.warn(\"kurtosistest only valid for n>=20 ... continuing \"\n"
     ]
    }
   ],
   "source": [
    "x2 = data.drop('desloc_y', axis = 1)\n",
    "y2 = data['desloc_y']\n",
    "x2_train_sm = sm.add_constant(x2)\n",
    "lr2= sm.OLS(y2,x2_train_sm).fit()\n",
    "print(lr2.summary())\n"
   ]
  },
  {
   "cell_type": "code",
   "execution_count": 16,
   "metadata": {},
   "outputs": [],
   "source": [
    "data3 = pd.read_excel(f\"C:\\\\Users\\\\Leonardo\\\\Desktop\\\\Projetos Python\\\\Pesquisa\\\\trelica_secoes\\\\output_1000.xlsx\")\n",
    "data3 = data3.drop('Unnamed: 0', axis = 1)\n",
    "data3 = data3.drop(['Material G0', 'Material G1', 'Material G2',\n",
    "       'Material G3', 'Material G4', 'Material G5', 'Material G6', 'Fx','desloc_x', 'Tension G0', 'Tension G1', 'Tension G2',\n",
    "       'Tension G3', 'Tension G4', 'Tension G5', 'Tension G6', 'Fy'], axis = 1)\n",
    "\n"
   ]
  },
  {
   "attachments": {},
   "cell_type": "markdown",
   "metadata": {},
   "source": [
    "1000 EXEMPLOS"
   ]
  },
  {
   "cell_type": "code",
   "execution_count": 17,
   "metadata": {},
   "outputs": [
    {
     "name": "stdout",
     "output_type": "stream",
     "text": [
      "                            OLS Regression Results                            \n",
      "==============================================================================\n",
      "Dep. Variable:               desloc_y   R-squared:                       0.927\n",
      "Model:                            OLS   Adj. R-squared:                  0.926\n",
      "Method:                 Least Squares   F-statistic:                     1791.\n",
      "Date:                Sat, 08 Apr 2023   Prob (F-statistic):               0.00\n",
      "Time:                        18:34:37   Log-Likelihood:                 6226.1\n",
      "No. Observations:                1000   AIC:                        -1.244e+04\n",
      "Df Residuals:                     992   BIC:                        -1.240e+04\n",
      "Df Model:                           7                                         \n",
      "Covariance Type:            nonrobust                                         \n",
      "==============================================================================\n",
      "                 coef    std err          t      P>|t|      [0.025      0.975]\n",
      "------------------------------------------------------------------------------\n",
      "const         -0.0263      0.000   -183.294      0.000      -0.027      -0.026\n",
      "Section G0     6.6280      0.129     51.553      0.000       6.376       6.880\n",
      "Section G1     0.7006      0.132      5.320      0.000       0.442       0.959\n",
      "Section G2     7.5891      0.127     59.728      0.000       7.340       7.838\n",
      "Section G3     2.7811      0.131     21.183      0.000       2.523       3.039\n",
      "Section G4     1.9811      0.132     15.064      0.000       1.723       2.239\n",
      "Section G5     3.2416      0.128     25.255      0.000       2.990       3.493\n",
      "Section G6     9.1140      0.130     70.199      0.000       8.859       9.369\n",
      "==============================================================================\n",
      "Omnibus:                       42.874   Durbin-Watson:                   1.900\n",
      "Prob(Omnibus):                  0.000   Jarque-Bera (JB):               47.651\n",
      "Skew:                          -0.534   Prob(JB):                     4.50e-11\n",
      "Kurtosis:                       3.039   Cond. No.                     9.03e+03\n",
      "==============================================================================\n",
      "\n",
      "Notes:\n",
      "[1] Standard Errors assume that the covariance matrix of the errors is correctly specified.\n",
      "[2] The condition number is large, 9.03e+03. This might indicate that there are\n",
      "strong multicollinearity or other numerical problems.\n"
     ]
    }
   ],
   "source": [
    "x3 = data3.drop('desloc_y', axis = 1)\n",
    "y3 = data3['desloc_y']\n",
    "x3_train_sm = sm.add_constant(x3)\n",
    "lr3= sm.OLS(y3,x3_train_sm).fit()\n",
    "print(lr3.summary())"
   ]
  },
  {
   "cell_type": "code",
   "execution_count": 18,
   "metadata": {},
   "outputs": [],
   "source": [
    "data4 = pd.read_excel(f\"C:\\\\Users\\\\Leonardo\\\\Desktop\\\\Projetos Python\\\\Pesquisa\\\\trelica_secoes\\\\output_50.xlsx\")\n",
    "data4 = data4.drop('Unnamed: 0', axis = 1)\n",
    "data4 = data4.drop(['Material G0', 'Material G1', 'Material G2',\n",
    "       'Material G3', 'Material G4', 'Material G5', 'Material G6', 'Fx','desloc_x', 'Tension G0', 'Tension G1', 'Tension G2',\n",
    "       'Tension G3', 'Tension G4', 'Tension G5', 'Tension G6', 'Fy'], axis = 1)\n"
   ]
  },
  {
   "cell_type": "code",
   "execution_count": 19,
   "metadata": {},
   "outputs": [
    {
     "name": "stdout",
     "output_type": "stream",
     "text": [
      "                            OLS Regression Results                            \n",
      "==============================================================================\n",
      "Dep. Variable:               desloc_y   R-squared:                       0.931\n",
      "Model:                            OLS   Adj. R-squared:                  0.920\n",
      "Method:                 Least Squares   F-statistic:                     81.33\n",
      "Date:                Sat, 08 Apr 2023   Prob (F-statistic):           2.36e-22\n",
      "Time:                        18:34:37   Log-Likelihood:                 312.56\n",
      "No. Observations:                  50   AIC:                            -609.1\n",
      "Df Residuals:                      42   BIC:                            -593.8\n",
      "Df Model:                           7                                         \n",
      "Covariance Type:            nonrobust                                         \n",
      "==============================================================================\n",
      "                 coef    std err          t      P>|t|      [0.025      0.975]\n",
      "------------------------------------------------------------------------------\n",
      "const         -0.0263      0.001    -40.924      0.000      -0.028      -0.025\n",
      "Section G0     6.0215      0.566     10.641      0.000       4.880       7.163\n",
      "Section G1     1.3056      0.640      2.040      0.048       0.014       2.597\n",
      "Section G2     7.5724      0.602     12.570      0.000       6.357       8.788\n",
      "Section G3     2.9998      0.774      3.873      0.000       1.437       4.563\n",
      "Section G4     1.9979      0.621      3.218      0.002       0.745       3.251\n",
      "Section G5     3.2178      0.663      4.856      0.000       1.881       4.555\n",
      "Section G6     8.8517      0.712     12.434      0.000       7.415      10.288\n",
      "==============================================================================\n",
      "Omnibus:                        1.928   Durbin-Watson:                   1.937\n",
      "Prob(Omnibus):                  0.381   Jarque-Bera (JB):                1.768\n",
      "Skew:                          -0.356   Prob(JB):                        0.413\n",
      "Kurtosis:                       2.416   Cond. No.                     1.21e+04\n",
      "==============================================================================\n",
      "\n",
      "Notes:\n",
      "[1] Standard Errors assume that the covariance matrix of the errors is correctly specified.\n",
      "[2] The condition number is large, 1.21e+04. This might indicate that there are\n",
      "strong multicollinearity or other numerical problems.\n"
     ]
    }
   ],
   "source": [
    "x4 = data4.drop('desloc_y', axis = 1)\n",
    "y4 = data4['desloc_y']\n",
    "x4_train_sm = sm.add_constant(x4)\n",
    "lr4= sm.OLS(y4,x4_train_sm).fit()\n",
    "print(lr4.summary())"
   ]
  }
 ],
 "metadata": {
  "kernelspec": {
   "display_name": "Python 3",
   "language": "python",
   "name": "python3"
  },
  "language_info": {
   "codemirror_mode": {
    "name": "ipython",
    "version": 3
   },
   "file_extension": ".py",
   "mimetype": "text/x-python",
   "name": "python",
   "nbconvert_exporter": "python",
   "pygments_lexer": "ipython3",
   "version": "3.10.10"
  },
  "orig_nbformat": 4
 },
 "nbformat": 4,
 "nbformat_minor": 2
}
