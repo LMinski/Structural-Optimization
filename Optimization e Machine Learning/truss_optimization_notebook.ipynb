{
 "cells": [
  {
   "cell_type": "code",
   "execution_count": 1,
   "metadata": {},
   "outputs": [],
   "source": [
    "from trelica_2D import trelica\n",
    "from secoes import secoes\n",
    "from bsa import bsa\n",
    "import numpy as np"
   ]
  },
  {
   "attachments": {},
   "cell_type": "markdown",
   "metadata": {},
   "source": [
    "# Otimizações"
   ]
  },
  {
   "cell_type": "code",
   "execution_count": 2,
   "metadata": {},
   "outputs": [],
   "source": [
    "from scipy.optimize import differential_evolution\n",
    "from scipy.optimize import shgo\n",
    "from scipy.optimize import dual_annealing\n",
    "\n",
    "\n",
    "bounds = (1, 13), (1, 13), (1, 13), (1, 13), (1, 13), (1, 13), (1, 13)"
   ]
  },
  {
   "attachments": {},
   "cell_type": "markdown",
   "metadata": {},
   "source": [
    "### Differential Evolution (DE)"
   ]
  },
  {
   "cell_type": "code",
   "execution_count": 4,
   "metadata": {},
   "outputs": [
    {
     "name": "stdout",
     "output_type": "stream",
     "text": [
      "Valor das seções: [12.12322284  1.78437714 12.79720947  8.09197756  1.61846109  7.95689162\n",
      " 12.66332083]\n",
      "Áreas: [0.000582 0.000235 0.000582 0.00043  0.000235 0.000389 0.000582]\n",
      "Volume: 3.5515243122792493 cm3\n",
      "Número de iterações: 45\n"
     ]
    }
   ],
   "source": [
    "result = differential_evolution(trelica, bounds)\n",
    "resultado = result.x\n",
    "secoes_otimizadas = resultado\n",
    "areas = secoes[np.array(secoes_otimizadas-1, dtype='int32'), 0]\n",
    "print(f'Valor das seções: {secoes_otimizadas}')\n",
    "print(f'Áreas: {areas}')\n",
    "print(f'Volume: {trelica(secoes_otimizadas)} cm3')\n",
    "print(f'Número de iterações: {result.nit}')\n"
   ]
  },
  {
   "attachments": {},
   "cell_type": "markdown",
   "metadata": {},
   "source": [
    "### SHGO"
   ]
  },
  {
   "cell_type": "code",
   "execution_count": 5,
   "metadata": {},
   "outputs": [
    {
     "name": "stdout",
     "output_type": "stream",
     "text": [
      "Valor das seções: [13.  1. 13. 13.  1.  1. 13.]\n",
      "Áreas: [0.000631 0.000235 0.000631 0.000631 0.000235 0.000235 0.000631]\n",
      "Volume: 3.849077702872523 cm3\n",
      "Número de iterações: 2\n"
     ]
    }
   ],
   "source": [
    "result = shgo(trelica, bounds)\n",
    "resultado = result.x\n",
    "secoes_otimizadas = resultado\n",
    "areas = secoes[np.array(secoes_otimizadas-1, dtype='int32'), 0]\n",
    "print(f'Valor das seções: {secoes_otimizadas}')\n",
    "print(f'Áreas: {areas}')\n",
    "print(f'Volume: {trelica(secoes_otimizadas)} cm3')\n",
    "print(f'Número de iterações: {result.nit}')\n"
   ]
  },
  {
   "attachments": {},
   "cell_type": "markdown",
   "metadata": {},
   "source": [
    "### Dual Annealing"
   ]
  },
  {
   "cell_type": "code",
   "execution_count": 6,
   "metadata": {},
   "outputs": [
    {
     "name": "stdout",
     "output_type": "stream",
     "text": [
      "Valor das seções: [12.47585636  1.1884418  12.83869784  8.23558569  1.76229379  7.17426654\n",
      " 12.94788317]\n",
      "Áreas: [0.000582 0.000235 0.000582 0.00043  0.000235 0.000389 0.000582]\n",
      "Volume: 3.5515243122792493 cm\n",
      "Número de iterações: 1000\n"
     ]
    }
   ],
   "source": [
    "result = dual_annealing(trelica, bounds)\n",
    "resultado = result.x\n",
    "secoes_otimizadas = resultado\n",
    "areas = secoes[np.array(secoes_otimizadas-1, dtype='int32'), 0]\n",
    "print(f'Valor das seções: {secoes_otimizadas}')\n",
    "print(f'Áreas: {areas}')\n",
    "print(f'Volume: {trelica(secoes_otimizadas)} cm')\n",
    "print(f'Número de iterações: {result.nit}')\n"
   ]
  },
  {
   "attachments": {},
   "cell_type": "markdown",
   "metadata": {},
   "source": [
    "### Backtracking Search Algorithm (BSA)"
   ]
  },
  {
   "cell_type": "code",
   "execution_count": 13,
   "metadata": {},
   "outputs": [
    {
     "name": "stdout",
     "output_type": "stream",
     "text": [
      "Valor das seções: [ 9.39071089  1.         13.          8.10361651  1.          6.0284705\n",
      " 13.        ]\n",
      "Áreas: [0.000471 0.000235 0.000631 0.00043  0.000235 0.000379 0.000631]\n",
      "Volume: 3.548820776835531 cm3\n",
      "Número de iterações: 5000\n"
     ]
    }
   ],
   "source": [
    "popsize = 5 # number of population (popsize*epoch = number of obj. func. evaluations)\n",
    "epoch = 1000 # number of iterations (generations) of BSA\n",
    "result = bsa(trelica, bounds, popsize=popsize, epoch=epoch)\n",
    "secoes_otimizadas = result.x\n",
    "areas = secoes[np.array(secoes_otimizadas-1, dtype='int32'), 0]\n",
    "print(f'Valor das seções: {secoes_otimizadas}')\n",
    "print(f'Áreas: {areas}')\n",
    "print(f'Volume: {trelica(secoes_otimizadas)} cm3')\n",
    "print(f'Número de iterações: {epoch*popsize}')\n"
   ]
  },
  {
   "attachments": {},
   "cell_type": "markdown",
   "metadata": {},
   "source": [
    "# Machine Learning"
   ]
  },
  {
   "cell_type": "code",
   "execution_count": 16,
   "metadata": {},
   "outputs": [],
   "source": [
    "from ML_model import model, trelica_ML"
   ]
  },
  {
   "cell_type": "code",
   "execution_count": 18,
   "metadata": {},
   "outputs": [
    {
     "data": {
      "text/plain": [
       "array([-0.01344653])"
      ]
     },
     "execution_count": 18,
     "metadata": {},
     "output_type": "execute_result"
    }
   ],
   "source": []
  }
 ],
 "metadata": {
  "kernelspec": {
   "display_name": ".venv",
   "language": "python",
   "name": "python3"
  },
  "language_info": {
   "codemirror_mode": {
    "name": "ipython",
    "version": 3
   },
   "file_extension": ".py",
   "mimetype": "text/x-python",
   "name": "python",
   "nbconvert_exporter": "python",
   "pygments_lexer": "ipython3",
   "version": "3.11.2"
  },
  "orig_nbformat": 4
 },
 "nbformat": 4,
 "nbformat_minor": 2
}
