{
 "cells": [
  {
   "cell_type": "code",
   "execution_count": 166,
   "metadata": {},
   "outputs": [],
   "source": [
    "import trusspy as tp\n",
    "import numpy as np\n",
    "import pandas as pd\n",
    "import random\n"
   ]
  },
  {
   "cell_type": "code",
   "execution_count": 167,
   "metadata": {},
   "outputs": [],
   "source": [
    "data = pd.DataFrame(columns=(\"Fx\",\"Fy\",\"deformação_x\",\"deformação_y\"))"
   ]
  },
  {
   "cell_type": "code",
   "execution_count": 168,
   "metadata": {},
   "outputs": [
    {
     "name": "stdout",
     "output_type": "stream",
     "text": [
      "\n",
      " _____                  ______      \n",
      "|_   _|                 | ___ \\     \n",
      "  | |_ __ _   _ ___ ___ | |_/ /   _ \n",
      "  | | '__| | | / __/ __||  __/ | | |\n",
      "  | | |  | |_| \\__ \\__ \\| |  | |_| |\n",
      "  \\_/_|   \\__,_|___/___/\\_|   \\__, |\n",
      "                               __/ |\n",
      "                              |___/ \n",
      "\n",
      "TrussPy - Truss Solver for Python\n",
      "          Version 1.0.3\n",
      "\n",
      "Dutzler Andreas, Graz University of Technology, 2023\n",
      "        \n",
      "\n",
      "# Initialize Model\n",
      "* loading Managers\n",
      "\n",
      "    - finished.\n",
      "\n"
     ]
    }
   ],
   "source": [
    "# init model\n",
    "M = tp.Model()"
   ]
  },
  {
   "cell_type": "code",
   "execution_count": 169,
   "metadata": {},
   "outputs": [],
   "source": [
    "class trelica:\n",
    "\n",
    "    def __init__(self,fx,fy):\n",
    "        self.fx = fx\n",
    "        self.fy = fy\n",
    "    def deformacao(self):\n",
    "\n",
    "        element_type   = 1    # truss\n",
    "        material_type  = 1    # linear-elastic\n",
    "\n",
    "        L1 = 1\n",
    "        L2 = 1\n",
    "        L3 = 1\n",
    "\n",
    "        E = 200*(10**9)\n",
    "\n",
    "        area  = 10**-4\n",
    "\n",
    "        F1 = self.fx\n",
    "        F2 = self.fy\n",
    "        F3 = 0\n",
    "\n",
    "        with M.Nodes as MN:\n",
    "            MN.add_node( 1, coord=(0,    0,  0))\n",
    "            MN.add_node( 2, coord=(0,    0,  L1))\n",
    "            MN.add_node( 3, coord=(L2,   0,  0))\n",
    "            MN.add_node( 4, coord=(L2,   0,  L1))\n",
    "            MN.add_node( 5, coord=(L2+L3,0,  0))\n",
    "\n",
    "\n",
    "\n",
    "        with M.Elements as ME:\n",
    "            ME.add_element( 1, conn=(1,3), gprop=[area] )\n",
    "            ME.add_element( 2 ,conn=(1,4), gprop=[area] )\n",
    "            ME.add_element( 3, conn=(2,3), gprop=[area] )\n",
    "            ME.add_element( 4, conn=(2,4), gprop=[area] )\n",
    "            ME.add_element( 5, conn=(3,4), gprop=[area] )\n",
    "            ME.add_element( 6, conn=(3,5), gprop=[area] )\n",
    "            ME.add_element( 7, conn=(4,5), gprop=[area] )\n",
    "\n",
    "            ME.assign_etype(    'all',   element_type   )\n",
    "            ME.assign_mtype(    'all',  material_type   )\n",
    "            ME.assign_material( 'all', [E] )\n",
    "\n",
    "        with M.Boundaries as MB:\n",
    "            MB.add_bound_U( 1, (0,0,0) )\n",
    "            MB.add_bound_U( 2, (0,0,0) )\n",
    "            MB.add_bound_U( 3, (1,0,1) )\n",
    "            MB.add_bound_U( 4, (1,0,1) )\n",
    "            MB.add_bound_U( 5, (1,0,1) )\n",
    "\n",
    "        with M.ExtForces as MF:\n",
    "            MF.add_force( 5, (F1, F3, F2) )\n",
    "\n",
    "        # M.Settings.dlpf = 1\n",
    "        # M.Settings.du = 1\n",
    "\n",
    "        M.Settings.incs = 1\n",
    "\n",
    "        # M.Settings.stepcontrol = True\n",
    "        # M.Settings.maxfac = 1\n",
    "\n",
    "        # M.Settings.ftol = 10**8\n",
    "        # M.Settings.xtol = 1\n",
    "        # M.Settings.nfev = 1\n",
    "\n",
    "        # M.Settings.dxtol = 1\n",
    "\n",
    "        # build model and run job\n",
    "        M.build()\n",
    "        M.run()\n",
    "\n",
    "        # M.plot_history(nodes=[5,5], X='Displacement X', Y='Displacement Z')\n",
    "\n",
    "        # M.plot_model(config=['undeformed'],\n",
    "        #                        view='xz', #'xy', 'yz', 'xz'\n",
    "        #                        contour='force',\n",
    "        #                     #    lim_scale=(-3,2,0,5,-1,4), #3d\n",
    "        #                        lim_scale=1.4, #plane-view\n",
    "        #                        force_scale=2.0, #5\n",
    "        #                        inc=0)\n",
    "\n",
    "        # M.plot_model(config=['deformed'],\n",
    "        #                        view='xz',\n",
    "        #                        contour='force',\n",
    "        #                        lim_scale=1.3,\n",
    "        #                        force_scale=500.0,\n",
    "        #                        inc=-1)\n",
    "\n",
    "        # M.plot_model(config=['deformed'],\n",
    "        #                        view='xz',\n",
    "        #                        contour='force',\n",
    "        #                     #    lim_scale=(-3,2,0,5,-2,3),\n",
    "        #                         lim_scale=1.3,\n",
    "        #                        force_scale=500,\n",
    "        #                        inc=-1)"
   ]
  },
  {
   "cell_type": "code",
   "execution_count": null,
   "metadata": {},
   "outputs": [
    {
     "name": "stdout",
     "output_type": "stream",
     "text": [
      "\n",
      "# Model Summary\n",
      "    Analysis Dimension      \"ndim\": 3\n",
      "    Number of Nodes       \"nnodes\": 5\n",
      "    Number of Elements    \"nelems\": 7\n",
      " \n",
      "    System DOF              \"ndof\": 15\n",
      "    active DOF             \"ndof1\": 6\n",
      "    locked DOF             \"ndof2\": 9\n",
      " \n",
      "    active DOF          \"nproDOF1\": [ 6  8  9 11 12 14]\n",
      "    fixed  DOF          \"nproDOF0\": [ 0  1  2  3  4  5  7 10 13]\n",
      "\\pagebreak\n",
      " \n",
      "# Run Simulation\n",
      "\n",
      "## Summary of Analysis Parameters\n",
      "|Description                          |Parameter|Value|\n",
      "|:------------------------------------|:--------|:--|\n",
      "|Maximum increments                   |   `incs`| 1 |\n",
      "|Maximum increment recycles           |   `cycl`| 4 |\n",
      "|Maximum Newton-Rhapson iterations    |   `nfev`| 8 |\n",
      "|Maximum incremental displacement     |     `du`| 0.02 |\n",
      "|Maximum incremental LPF              |   `dlpf`| 0.02 |\n",
      "|Initial control component            |     `j0`| LPF|\n",
      "|Locked control component             |`j_fixed`| False |\n",
      "|Maximum incremental overshoot        |  `dxtol`| 1.000001 |\n",
      "|Tolerance for x                      |   `xtol`| 8 |\n",
      "|Tolerance for f                      |   `ftol`| 8 |\n",
      "\n",
      "\n",
      "## Step 1\n",
      "* i(1) is index with 1st-biggest component in abs(Dx/Dx,max).\n",
      "* i(2) is index with 2nd-biggest component in abs(Dx/Dx,max).\n",
      "* i(3) is index with 3rd-biggest component in abs(Dx/Dx,max).\n",
      "* i(4) is index with 4th-biggest component in abs(Dx/Dx,max).\n",
      "* Value(i) is value of i-th component in abs(Dx/Dx,max).\n",
      "$$\\text{Value}_i = \\left|\\frac{D_x}{D_{x,max}}\\right|_i$$\n",
      "\n",
      "### Increment 1\n",
      "|Cycle|NR-It.|Control| Norm(g) |i(1)|Value   |i(2)|Value   |i(3)|Value   |\n",
      "|:---:|:----:|:-----:|:-------:|:--:|:------:|:--:|:------:|:--:|:------:|\n",
      "|  1  |   0  |   7   |1.533e-01|   7|       1|    |        |    |        |\n",
      "\n",
      "|Cycle|NR-It.|Control| Norm(g) |i(1)|Value   |i(2)|Value   |i(3)|Value   |\n",
      "|:---:|:----:|:-----:|:-------:|:--:|:------:|:--:|:------:|:--:|:------:|\n",
      "|     |   1  |       |1.174e-08|    |        |    |        |    |        |\n",
      "|     |   2  |       |4.084e-09|    |        |    |        |    |        |\n",
      "|total| sum  | used  |  final  |    | final  |    | final  |    | final  |\n",
      "|  1  |   3  |   7   |4.084e-09|   7|  1.0000|   6| -0.0070|   4| -0.0026|\n",
      "\n",
      "* final LPF:       0.02\n",
      "\\pagebreak\n",
      " \n",
      "\n",
      "### Create result object from analysis results for step   1\n",
      "\n",
      "    write result   1/  1 (LPF:       0.02)\n",
      "\n",
      "End of Step 1\n",
      "\\pagebreak\n",
      " \n",
      "\n",
      "## Job duration\n",
      "Time measurement for execution times of \"Model.build()\" and \"Model.run()\".\n",
      "\n",
      "    total  cpu time \"build\":      0.001 seconds\n",
      "    total wall time \"build\":      0.001 seconds\n",
      "\n",
      "    total  cpu time \"run\":        0.006 seconds\n",
      "    total wall time \"run\":        0.007 seconds\n",
      "\n"
     ]
    }
   ],
   "source": [
    "fx = random.randint(-10**5,10**5)\n",
    "fy = random.randint(-10**5,10**5)\n",
    "t = trelica(fx,fy)\n",
    "a = t.deformacao()"
   ]
  },
  {
   "cell_type": "code",
   "execution_count": null,
   "metadata": {},
   "outputs": [
    {
     "data": {
      "text/html": [
       "<div>\n",
       "<style scoped>\n",
       "    .dataframe tbody tr th:only-of-type {\n",
       "        vertical-align: middle;\n",
       "    }\n",
       "\n",
       "    .dataframe tbody tr th {\n",
       "        vertical-align: top;\n",
       "    }\n",
       "\n",
       "    .dataframe thead th {\n",
       "        text-align: right;\n",
       "    }\n",
       "</style>\n",
       "<table border=\"1\" class=\"dataframe\">\n",
       "  <thead>\n",
       "    <tr style=\"text-align: right;\">\n",
       "      <th></th>\n",
       "      <th>Fx</th>\n",
       "      <th>Fy</th>\n",
       "      <th>deformação_x</th>\n",
       "      <th>deformação_y</th>\n",
       "    </tr>\n",
       "  </thead>\n",
       "  <tbody>\n",
       "    <tr>\n",
       "      <th>0</th>\n",
       "      <td>21390.0</td>\n",
       "      <td>-19377.0</td>\n",
       "      <td>-0.000007</td>\n",
       "      <td>-0.000141</td>\n",
       "    </tr>\n",
       "  </tbody>\n",
       "</table>\n",
       "</div>"
      ],
      "text/plain": [
       "        Fx       Fy  deformação_x  deformação_y\n",
       "0  21390.0 -19377.0     -0.000007     -0.000141"
      ]
     },
     "execution_count": 163,
     "metadata": {},
     "output_type": "execute_result"
    }
   ],
   "source": [
    "data"
   ]
  },
  {
   "cell_type": "code",
   "execution_count": null,
   "metadata": {},
   "outputs": [
    {
     "ename": "ValueError",
     "evalue": "operands could not be broadcast together with shapes (10,) (6,) ",
     "output_type": "error",
     "traceback": [
      "\u001b[0;31m---------------------------------------------------------------------------\u001b[0m",
      "\u001b[0;31mValueError\u001b[0m                                Traceback (most recent call last)",
      "Cell \u001b[0;32mIn[164], line 6\u001b[0m\n\u001b[1;32m      4\u001b[0m     fy \u001b[39m=\u001b[39m random\u001b[39m.\u001b[39mrandint(\u001b[39m-\u001b[39m\u001b[39m10\u001b[39m\u001b[39m*\u001b[39m\u001b[39m*\u001b[39m\u001b[39m5\u001b[39m,\u001b[39m10\u001b[39m\u001b[39m*\u001b[39m\u001b[39m*\u001b[39m\u001b[39m5\u001b[39m) \u001b[39m# em Newtons\u001b[39;00m\n\u001b[1;32m      5\u001b[0m dado \u001b[39m=\u001b[39mtrelica(fx, fy)\n\u001b[0;32m----> 6\u001b[0m deformacao \u001b[39m=\u001b[39m dado\u001b[39m.\u001b[39;49mdeformacao()\n\u001b[1;32m      7\u001b[0m data\u001b[39m.\u001b[39mloc[\u001b[39mlen\u001b[39m(data)] \u001b[39m=\u001b[39m row\n\u001b[1;32m      8\u001b[0m data\u001b[39m.\u001b[39mtail()\n",
      "Cell \u001b[0;32mIn[161], line 70\u001b[0m, in \u001b[0;36mtrelica.deformacao\u001b[0;34m(self)\u001b[0m\n\u001b[1;32m     58\u001b[0m M\u001b[39m.\u001b[39mSettings\u001b[39m.\u001b[39mincs \u001b[39m=\u001b[39m \u001b[39m1\u001b[39m\n\u001b[1;32m     60\u001b[0m \u001b[39m# M.Settings.stepcontrol = True\u001b[39;00m\n\u001b[1;32m     61\u001b[0m \u001b[39m# M.Settings.maxfac = 1\u001b[39;00m\n\u001b[1;32m     62\u001b[0m \n\u001b[0;32m   (...)\u001b[0m\n\u001b[1;32m     68\u001b[0m \n\u001b[1;32m     69\u001b[0m \u001b[39m# build model and run job\u001b[39;00m\n\u001b[0;32m---> 70\u001b[0m M\u001b[39m.\u001b[39;49mbuild()\n\u001b[1;32m     71\u001b[0m M\u001b[39m.\u001b[39mrun()\n\u001b[1;32m     72\u001b[0m row \u001b[39m=\u001b[39m [\u001b[39mself\u001b[39m\u001b[39m.\u001b[39mfx, \u001b[39mself\u001b[39m\u001b[39m.\u001b[39mfy, M\u001b[39m.\u001b[39mResults\u001b[39m.\u001b[39mR[\u001b[39m-\u001b[39m\u001b[39m1\u001b[39m]\u001b[39m.\u001b[39mU[\u001b[39m-\u001b[39m\u001b[39m1\u001b[39m][\u001b[39m0\u001b[39m], M\u001b[39m.\u001b[39mResults\u001b[39m.\u001b[39mR[\u001b[39m-\u001b[39m\u001b[39m1\u001b[39m]\u001b[39m.\u001b[39mU[\u001b[39m-\u001b[39m\u001b[39m1\u001b[39m][\u001b[39m2\u001b[39m]]\n",
      "File \u001b[0;32m~/Documents/Projetos Python/Estagio/.venv/lib/python3.9/site-packages/trusspy/model.py:221\u001b[0m, in \u001b[0;36mModel.build\u001b[0;34m(self)\u001b[0m\n\u001b[1;32m    216\u001b[0m \u001b[39mself\u001b[39m\u001b[39m.\u001b[39mBoundaries\u001b[39m.\u001b[39mfix_bounds_U(\u001b[39mself\u001b[39m\u001b[39m.\u001b[39mNodes\u001b[39m.\u001b[39mlabels)\n\u001b[1;32m    217\u001b[0m \u001b[39mself\u001b[39m\u001b[39m.\u001b[39mExtForces\u001b[39m.\u001b[39mfix_forces(\u001b[39mself\u001b[39m\u001b[39m.\u001b[39mNodes\u001b[39m.\u001b[39mlabels)\n\u001b[1;32m    219\u001b[0m \u001b[39mif\u001b[39;00m \u001b[39mnot\u001b[39;00m (\n\u001b[1;32m    220\u001b[0m     np\u001b[39m.\u001b[39mallclose(\u001b[39mself\u001b[39m\u001b[39m.\u001b[39mNodes\u001b[39m.\u001b[39mlabels, \u001b[39mself\u001b[39m\u001b[39m.\u001b[39mBoundaries\u001b[39m.\u001b[39mUnodes)\n\u001b[0;32m--> 221\u001b[0m     \u001b[39mand\u001b[39;00m np\u001b[39m.\u001b[39;49mallclose(\u001b[39mself\u001b[39;49m\u001b[39m.\u001b[39;49mNodes\u001b[39m.\u001b[39;49mlabels, \u001b[39mself\u001b[39;49m\u001b[39m.\u001b[39;49mExtForces\u001b[39m.\u001b[39;49mnodes)\n\u001b[1;32m    222\u001b[0m ):\n\u001b[1;32m    223\u001b[0m     \u001b[39mraise\u001b[39;00m \u001b[39mIOError\u001b[39;00m(\u001b[39m\"\u001b[39m\u001b[39mNode sorting failed.\u001b[39m\u001b[39m\"\u001b[39m)\n\u001b[1;32m    225\u001b[0m \u001b[39m# init state variables for plasticity\u001b[39;00m\n",
      "File \u001b[0;32m<__array_function__ internals>:200\u001b[0m, in \u001b[0;36mallclose\u001b[0;34m(*args, **kwargs)\u001b[0m\n",
      "File \u001b[0;32m~/Documents/Projetos Python/Estagio/.venv/lib/python3.9/site-packages/numpy/core/numeric.py:2270\u001b[0m, in \u001b[0;36mallclose\u001b[0;34m(a, b, rtol, atol, equal_nan)\u001b[0m\n\u001b[1;32m   2199\u001b[0m \u001b[39m@array_function_dispatch\u001b[39m(_allclose_dispatcher)\n\u001b[1;32m   2200\u001b[0m \u001b[39mdef\u001b[39;00m \u001b[39mallclose\u001b[39m(a, b, rtol\u001b[39m=\u001b[39m\u001b[39m1.e-5\u001b[39m, atol\u001b[39m=\u001b[39m\u001b[39m1.e-8\u001b[39m, equal_nan\u001b[39m=\u001b[39m\u001b[39mFalse\u001b[39;00m):\n\u001b[1;32m   2201\u001b[0m \u001b[39m    \u001b[39m\u001b[39m\"\"\"\u001b[39;00m\n\u001b[1;32m   2202\u001b[0m \u001b[39m    Returns True if two arrays are element-wise equal within a tolerance.\u001b[39;00m\n\u001b[1;32m   2203\u001b[0m \n\u001b[0;32m   (...)\u001b[0m\n\u001b[1;32m   2268\u001b[0m \n\u001b[1;32m   2269\u001b[0m \u001b[39m    \"\"\"\u001b[39;00m\n\u001b[0;32m-> 2270\u001b[0m     res \u001b[39m=\u001b[39m \u001b[39mall\u001b[39m(isclose(a, b, rtol\u001b[39m=\u001b[39;49mrtol, atol\u001b[39m=\u001b[39;49matol, equal_nan\u001b[39m=\u001b[39;49mequal_nan))\n\u001b[1;32m   2271\u001b[0m     \u001b[39mreturn\u001b[39;00m \u001b[39mbool\u001b[39m(res)\n",
      "File \u001b[0;32m<__array_function__ internals>:200\u001b[0m, in \u001b[0;36misclose\u001b[0;34m(*args, **kwargs)\u001b[0m\n",
      "File \u001b[0;32m~/Documents/Projetos Python/Estagio/.venv/lib/python3.9/site-packages/numpy/core/numeric.py:2380\u001b[0m, in \u001b[0;36misclose\u001b[0;34m(a, b, rtol, atol, equal_nan)\u001b[0m\n\u001b[1;32m   2378\u001b[0m yfin \u001b[39m=\u001b[39m isfinite(y)\n\u001b[1;32m   2379\u001b[0m \u001b[39mif\u001b[39;00m \u001b[39mall\u001b[39m(xfin) \u001b[39mand\u001b[39;00m \u001b[39mall\u001b[39m(yfin):\n\u001b[0;32m-> 2380\u001b[0m     \u001b[39mreturn\u001b[39;00m within_tol(x, y, atol, rtol)\n\u001b[1;32m   2381\u001b[0m \u001b[39melse\u001b[39;00m:\n\u001b[1;32m   2382\u001b[0m     finite \u001b[39m=\u001b[39m xfin \u001b[39m&\u001b[39m yfin\n",
      "File \u001b[0;32m~/Documents/Projetos Python/Estagio/.venv/lib/python3.9/site-packages/numpy/core/numeric.py:2361\u001b[0m, in \u001b[0;36misclose.<locals>.within_tol\u001b[0;34m(x, y, atol, rtol)\u001b[0m\n\u001b[1;32m   2359\u001b[0m \u001b[39mdef\u001b[39;00m \u001b[39mwithin_tol\u001b[39m(x, y, atol, rtol):\n\u001b[1;32m   2360\u001b[0m     \u001b[39mwith\u001b[39;00m errstate(invalid\u001b[39m=\u001b[39m\u001b[39m'\u001b[39m\u001b[39mignore\u001b[39m\u001b[39m'\u001b[39m), _no_nep50_warning():\n\u001b[0;32m-> 2361\u001b[0m         \u001b[39mreturn\u001b[39;00m less_equal(\u001b[39mabs\u001b[39m(x\u001b[39m-\u001b[39;49my), atol \u001b[39m+\u001b[39m rtol \u001b[39m*\u001b[39m \u001b[39mabs\u001b[39m(y))\n",
      "\u001b[0;31mValueError\u001b[0m: operands could not be broadcast together with shapes (10,) (6,) "
     ]
    }
   ],
   "source": [
    "for i in range(0,1000):\n",
    "    for i in range(1001):\n",
    "        fx = random.randint(-10**5,10**5) # em Newtons\n",
    "        fy = random.randint(-10**5,10**5) # em Newtons\n",
    "    dado =trelica(fx, fy)\n",
    "    deformacao = dado.deformacao()\n",
    "    data.loc[len(data)] = row\n",
    "    data.tail()\n",
    "    "
   ]
  },
  {
   "cell_type": "code",
   "execution_count": null,
   "metadata": {},
   "outputs": [],
   "source": [
    "element_type   = 1    # truss\n",
    "material_type  = 1    # linear-elastic\n",
    "\n",
    "L1 = 1\n",
    "L2 = 1\n",
    "L3 = 1"
   ]
  },
  {
   "cell_type": "code",
   "execution_count": null,
   "metadata": {},
   "outputs": [],
   "source": [
    "E = 200*(10**9)\n",
    "\n",
    "area  = 10**-4\n",
    "\n",
    "F1 = 0\n",
    "F2 = -(10**5)\n",
    "F3 = 0"
   ]
  },
  {
   "cell_type": "code",
   "execution_count": null,
   "metadata": {},
   "outputs": [],
   "source": [
    "with M.Nodes as MN: # Nodes positions\n",
    "    MN.add_node( 1, coord=(0,    0,  0))\n",
    "    MN.add_node( 2, coord=(0,    0,  L1))\n",
    "    MN.add_node( 3, coord=(L2,   0,  0))\n",
    "    MN.add_node( 4, coord=(L2,   0,  L1))\n",
    "    MN.add_node( 5, coord=(L2+L3,0,  0))\n",
    "\n"
   ]
  },
  {
   "cell_type": "code",
   "execution_count": null,
   "metadata": {},
   "outputs": [],
   "source": [
    "with M.Elements as ME:\n",
    "    ME.add_element( 1, conn=(1,3), gprop=[area] )\n",
    "    ME.add_element( 2 ,conn=(1,4), gprop=[area] )\n",
    "    ME.add_element( 3, conn=(2,3), gprop=[area] )\n",
    "    ME.add_element( 4, conn=(2,4), gprop=[area] )\n",
    "    ME.add_element( 5, conn=(3,4), gprop=[area] )\n",
    "    ME.add_element( 6, conn=(3,5), gprop=[area] )\n",
    "    ME.add_element( 7, conn=(4,5), gprop=[area] )\n",
    "\n",
    "    ME.assign_etype(    'all',   element_type   ) #element_type   = 1  truss\n",
    "    ME.assign_mtype(    'all',  material_type   ) #material_type  = 1  linear-elastic\n",
    "    ME.assign_material( 'all', [E] ) # Função que define o módulo de Elasticidade das barras\n"
   ]
  },
  {
   "cell_type": "code",
   "execution_count": null,
   "metadata": {},
   "outputs": [],
   "source": [
    "with M.Boundaries as MB:\n",
    "    MB.add_bound_U( 1, (0,0,0) )\n",
    "    MB.add_bound_U( 2, (0,0,0) )\n",
    "    MB.add_bound_U( 3, (1,0,1) )\n",
    "    MB.add_bound_U( 4, (1,0,1) )\n",
    "    MB.add_bound_U( 5, (1,0,1) )\n"
   ]
  },
  {
   "cell_type": "code",
   "execution_count": null,
   "metadata": {},
   "outputs": [],
   "source": [
    "with M.ExtForces as MF:\n",
    "    MF.add_force( 5, (F1, F3, F2) )"
   ]
  },
  {
   "cell_type": "code",
   "execution_count": null,
   "metadata": {},
   "outputs": [
    {
     "data": {
      "text/plain": [
       "array([[        0.,         0., -24300000.]])"
      ]
     },
     "execution_count": 39,
     "metadata": {},
     "output_type": "execute_result"
    }
   ],
   "source": [
    "M.ExtForces.forces"
   ]
  },
  {
   "cell_type": "code",
   "execution_count": null,
   "metadata": {},
   "outputs": [],
   "source": [
    "M.Settings.incs = 1"
   ]
  },
  {
   "cell_type": "code",
   "execution_count": null,
   "metadata": {},
   "outputs": [
    {
     "name": "stdout",
     "output_type": "stream",
     "text": [
      "\n",
      "# Model Summary\n",
      "    Analysis Dimension      \"ndim\": 3\n",
      "    Number of Nodes       \"nnodes\": 5\n",
      "    Number of Elements    \"nelems\": 7\n",
      " \n",
      "    System DOF              \"ndof\": 15\n",
      "    active DOF             \"ndof1\": 6\n",
      "    locked DOF             \"ndof2\": 9\n",
      " \n",
      "    active DOF          \"nproDOF1\": [ 6  8  9 11 12 14]\n",
      "    fixed  DOF          \"nproDOF0\": [ 0  1  2  3  4  5  7 10 13]\n",
      "\\pagebreak\n",
      " \n",
      "# Run Simulation\n",
      "\n",
      "## Summary of Analysis Parameters\n",
      "|Description                          |Parameter|Value|\n",
      "|:------------------------------------|:--------|:--|\n",
      "|Maximum increments                   |   `incs`| 1 |\n",
      "|Maximum increment recycles           |   `cycl`| 4 |\n",
      "|Maximum Newton-Rhapson iterations    |   `nfev`| 8 |\n",
      "|Maximum incremental displacement     |     `du`| 0.02 |\n",
      "|Maximum incremental LPF              |   `dlpf`| 0.02 |\n",
      "|Initial control component            |     `j0`| LPF|\n",
      "|Locked control component             |`j_fixed`| False |\n",
      "|Maximum incremental overshoot        |  `dxtol`| 1.000001 |\n",
      "|Tolerance for x                      |   `xtol`| 8 |\n",
      "|Tolerance for f                      |   `ftol`| 8 |\n",
      "\n",
      "\n",
      "## Step 1\n",
      "* i(1) is index with 1st-biggest component in abs(Dx/Dx,max).\n",
      "* i(2) is index with 2nd-biggest component in abs(Dx/Dx,max).\n",
      "* i(3) is index with 3rd-biggest component in abs(Dx/Dx,max).\n",
      "* i(4) is index with 4th-biggest component in abs(Dx/Dx,max).\n",
      "* Value(i) is value of i-th component in abs(Dx/Dx,max).\n",
      "$$\\text{Value}_i = \\left|\\frac{D_x}{D_{x,max}}\\right|_i$$\n",
      "\n",
      "### Increment 1\n",
      "|Cycle|NR-It.|Control| Norm(g) |i(1)|Value   |i(2)|Value   |i(3)|Value   |\n",
      "|:---:|:----:|:-----:|:-------:|:--:|:------:|:--:|:------:|:--:|:------:|\n",
      "|  1  |   0  |   7   |5.222e+05|   6|  -1e+01|    |        |    |        |\n",
      "\n",
      "|Cycle|NR-It.|Control| Norm(g) |i(1)|Value   |i(2)|Value   |i(3)|Value   |\n",
      "|:---:|:----:|:-----:|:-------:|:--:|:------:|:--:|:------:|:--:|:------:|\n",
      "|     |   1  |       |8.714e-02|    |        |    |        |    |        |\n",
      "|     |   2  |       |7.626e-09|    |        |    |        |    |        |\n",
      "|total| sum  | used  |  final  |    | final  |    | final  |    | final  |\n",
      "|  1  |   3  |  -6   |7.626e-09|   6| -1.0000|   4| -0.3152|   2| -0.2692|\n",
      "\n",
      "* final LPF:   0.001654\n",
      "\\pagebreak\n",
      " \n",
      "\n",
      "### Create result object from analysis results for step   1\n",
      "\n",
      "    write result   1/  1 (LPF:   0.001654)\n",
      "\n",
      "End of Step 1\n",
      "\\pagebreak\n",
      " \n",
      "\n",
      "## Job duration\n",
      "Time measurement for execution times of \"Model.build()\" and \"Model.run()\".\n",
      "\n",
      "    total  cpu time \"build\":      0.001 seconds\n",
      "    total wall time \"build\":      0.001 seconds\n",
      "\n",
      "    total  cpu time \"run\":        0.007 seconds\n",
      "    total wall time \"run\":        0.008 seconds\n",
      "\n"
     ]
    }
   ],
   "source": [
    "M.build()\n",
    "M.run()"
   ]
  },
  {
   "cell_type": "code",
   "execution_count": null,
   "metadata": {},
   "outputs": [
    {
     "data": {
      "text/plain": [
       "(<Figure size 800x600 with 1 Axes>,\n",
       " <Axes: xlabel='Displacement Z', ylabel='Force Z'>)"
      ]
     },
     "execution_count": 42,
     "metadata": {},
     "output_type": "execute_result"
    },
    {
     "data": {
      "image/png": "[encoded data removed]",
      "text/plain": [
       "<Figure size 800x600 with 2 Axes>"
      ]
     },
     "metadata": {},
     "output_type": "display_data"
    },
    {
     "data": {
      "image/png": "[encoded data removed]",
      "text/plain": [
       "<Figure size 800x600 with 1 Axes>"
      ]
     },
     "metadata": {},
     "output_type": "display_data"
    }
   ],
   "source": [
    "M.plot_model(config=['deformed'],\n",
    "             view='xz',\n",
    "             contour='force',\n",
    "             lim_scale=(-0.5,3.5,-2,2),\n",
    "             force_scale=1/2000,\n",
    "             inc=-1)\n",
    "\n",
    "M.plot_history(nodes=[5,5], X='Displacement Z', Y='Force Z')"
   ]
  },
  {
   "cell_type": "code",
   "execution_count": null,
   "metadata": {},
   "outputs": [
    {
     "data": {
      "text/plain": [
       "array([-0.00499952,  0.        , -0.02      ])"
      ]
     },
     "execution_count": 43,
     "metadata": {},
     "output_type": "execute_result"
    }
   ],
   "source": [
    "# show results\n",
    "M.plot_movie(config=['deformed'],\n",
    "             view='xz',\n",
    "             contour='force',\n",
    "             lim_scale=(-0.5,3.5,-2,2),\n",
    "             force_scale=5,\n",
    "             cbar_limits=[-1,1])\n",
    "\n",
    "M.Results.R[-1].U[-1]\n"
   ]
  },
  {
   "cell_type": "code",
   "execution_count": null,
   "metadata": {},
   "outputs": [],
   "source": [
    "#y = deslocamento x, y, z\n",
    "#x = força\n",
    "\n",
    "#class trelica:\n",
    "#    def __init__\n",
    "\n",
    "#como criar um data frame\n",
    "#como adicionar linhas em uma coluna\n",
    "#como remover uma coluna\n",
    "#como multiplicar uma coluna\n",
    "# pd.get_dummies  (pra separar variáveis categóricas)\n",
    "\n",
    "\n",
    "\n"
   ]
  },
  {
   "cell_type": "code",
   "execution_count": null,
   "metadata": {},
   "outputs": [],
   "source": [
    "data = pd.DataFrame()"
   ]
  }
 ],
 "metadata": {
  "kernelspec": {
   "display_name": "Python 3",
   "language": "python",
   "name": "python3"
  },
  "language_info": {
   "codemirror_mode": {
    "name": "ipython",
    "version": 3
   },
   "file_extension": ".py",
   "mimetype": "text/x-python",
   "name": "python",
   "nbconvert_exporter": "python",
   "pygments_lexer": "ipython3",
   "version": "3.9.6"
  },
  "orig_nbformat": 4,
  "vscode": {
   "interpreter": {
    "hash": "0cc338008178a1214e27db39d3f98c32ba31c00ac11362c1983256bb5ef1e9b4"
   }
  }
 },
 "nbformat": 4,
 "nbformat_minor": 2
}
