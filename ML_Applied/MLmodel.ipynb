{
 "cells": [
  {
   "cell_type": "code",
   "execution_count": 49,
   "metadata": {},
   "outputs": [],
   "source": [
    "import pandas as pd\n",
    "import numpy as np\n",
    "import tensorflow as tf\n",
    "from sklearn.ensemble import RandomForestRegressor\n",
    "from sklearn.model_selection import train_test_split \n",
    "from sklearn.model_selection import cross_val_score\n",
    "from sklearn.tree import DecisionTreeRegressor\n",
    "from sklearn.linear_model import LinearRegression\n",
    "import matplotlib.pyplot as plt"
   ]
  },
  {
   "cell_type": "code",
   "execution_count": 79,
   "metadata": {},
   "outputs": [],
   "source": [
    "data = pd.read_excel(f'C:\\\\Users\\\\Leonardo\\\\Desktop\\\\Projetos Python\\\\Pesquisa\\\\trelica2D-final\\\\output.xlsx')\n"
   ]
  },
  {
   "cell_type": "code",
   "execution_count": 80,
   "metadata": {},
   "outputs": [],
   "source": [
    "data = data.drop('Unnamed: 0', axis = 1)"
   ]
  },
  {
   "cell_type": "code",
   "execution_count": 81,
   "metadata": {},
   "outputs": [
    {
     "data": {
      "text/html": [
       "<div>\n",
       "<style scoped>\n",
       "    .dataframe tbody tr th:only-of-type {\n",
       "        vertical-align: middle;\n",
       "    }\n",
       "\n",
       "    .dataframe tbody tr th {\n",
       "        vertical-align: top;\n",
       "    }\n",
       "\n",
       "    .dataframe thead th {\n",
       "        text-align: right;\n",
       "    }\n",
       "</style>\n",
       "<table border=\"1\" class=\"dataframe\">\n",
       "  <thead>\n",
       "    <tr style=\"text-align: right;\">\n",
       "      <th></th>\n",
       "      <th>Section G0</th>\n",
       "      <th>Material G0</th>\n",
       "      <th>Fx</th>\n",
       "      <th>Fy</th>\n",
       "      <th>desloc_x</th>\n",
       "      <th>desloc_y</th>\n",
       "      <th>Tension G0</th>\n",
       "      <th>sigma/sigma_adm G0</th>\n",
       "    </tr>\n",
       "  </thead>\n",
       "  <tbody>\n",
       "    <tr>\n",
       "      <th>0</th>\n",
       "      <td>0.000235</td>\n",
       "      <td>200000000000</td>\n",
       "      <td>134227</td>\n",
       "      <td>-969227</td>\n",
       "      <td>-0.044982</td>\n",
       "      <td>-0.198496</td>\n",
       "      <td>6.358790e+09</td>\n",
       "      <td>18.447315</td>\n",
       "    </tr>\n",
       "    <tr>\n",
       "      <th>1</th>\n",
       "      <td>0.000471</td>\n",
       "      <td>200000000000</td>\n",
       "      <td>769976</td>\n",
       "      <td>447792</td>\n",
       "      <td>0.027013</td>\n",
       "      <td>0.067327</td>\n",
       "      <td>2.817105e+09</td>\n",
       "      <td>8.172629</td>\n",
       "    </tr>\n",
       "    <tr>\n",
       "      <th>2</th>\n",
       "      <td>0.000349</td>\n",
       "      <td>200000000000</td>\n",
       "      <td>689986</td>\n",
       "      <td>-878056</td>\n",
       "      <td>-0.012094</td>\n",
       "      <td>-0.101198</td>\n",
       "      <td>3.690815e+09</td>\n",
       "      <td>10.707326</td>\n",
       "    </tr>\n",
       "    <tr>\n",
       "      <th>3</th>\n",
       "      <td>0.000379</td>\n",
       "      <td>200000000000</td>\n",
       "      <td>-182321</td>\n",
       "      <td>145156</td>\n",
       "      <td>0.000144</td>\n",
       "      <td>0.013206</td>\n",
       "      <td>5.416401e+08</td>\n",
       "      <td>1.571338</td>\n",
       "    </tr>\n",
       "    <tr>\n",
       "      <th>4</th>\n",
       "      <td>0.000235</td>\n",
       "      <td>200000000000</td>\n",
       "      <td>805925</td>\n",
       "      <td>-812501</td>\n",
       "      <td>-0.009906</td>\n",
       "      <td>-0.130368</td>\n",
       "      <td>4.989715e+09</td>\n",
       "      <td>14.475528</td>\n",
       "    </tr>\n",
       "    <tr>\n",
       "      <th>...</th>\n",
       "      <td>...</td>\n",
       "      <td>...</td>\n",
       "      <td>...</td>\n",
       "      <td>...</td>\n",
       "      <td>...</td>\n",
       "      <td>...</td>\n",
       "      <td>...</td>\n",
       "      <td>...</td>\n",
       "    </tr>\n",
       "    <tr>\n",
       "      <th>9995</th>\n",
       "      <td>0.000379</td>\n",
       "      <td>200000000000</td>\n",
       "      <td>-143470</td>\n",
       "      <td>735610</td>\n",
       "      <td>0.020134</td>\n",
       "      <td>0.092072</td>\n",
       "      <td>2.979760e+09</td>\n",
       "      <td>8.644503</td>\n",
       "    </tr>\n",
       "    <tr>\n",
       "      <th>9996</th>\n",
       "      <td>0.000379</td>\n",
       "      <td>200000000000</td>\n",
       "      <td>228511</td>\n",
       "      <td>-131279</td>\n",
       "      <td>0.001451</td>\n",
       "      <td>-0.009894</td>\n",
       "      <td>4.898590e+08</td>\n",
       "      <td>1.421117</td>\n",
       "    </tr>\n",
       "    <tr>\n",
       "      <th>9997</th>\n",
       "      <td>0.000389</td>\n",
       "      <td>200000000000</td>\n",
       "      <td>508463</td>\n",
       "      <td>617533</td>\n",
       "      <td>0.031701</td>\n",
       "      <td>0.095048</td>\n",
       "      <td>3.445655e+09</td>\n",
       "      <td>9.996099</td>\n",
       "    </tr>\n",
       "    <tr>\n",
       "      <th>9998</th>\n",
       "      <td>0.000379</td>\n",
       "      <td>200000000000</td>\n",
       "      <td>926644</td>\n",
       "      <td>-741264</td>\n",
       "      <td>-0.000846</td>\n",
       "      <td>-0.067582</td>\n",
       "      <td>2.765978e+09</td>\n",
       "      <td>8.024305</td>\n",
       "    </tr>\n",
       "    <tr>\n",
       "      <th>9999</th>\n",
       "      <td>0.000582</td>\n",
       "      <td>200000000000</td>\n",
       "      <td>-601646</td>\n",
       "      <td>-973262</td>\n",
       "      <td>-0.030161</td>\n",
       "      <td>-0.095934</td>\n",
       "      <td>3.326162e+09</td>\n",
       "      <td>9.649440</td>\n",
       "    </tr>\n",
       "  </tbody>\n",
       "</table>\n",
       "<p>10000 rows × 8 columns</p>\n",
       "</div>"
      ],
      "text/plain": [
       "      Section G0   Material G0      Fx      Fy  desloc_x  desloc_y  \\\n",
       "0       0.000235  200000000000  134227 -969227 -0.044982 -0.198496   \n",
       "1       0.000471  200000000000  769976  447792  0.027013  0.067327   \n",
       "2       0.000349  200000000000  689986 -878056 -0.012094 -0.101198   \n",
       "3       0.000379  200000000000 -182321  145156  0.000144  0.013206   \n",
       "4       0.000235  200000000000  805925 -812501 -0.009906 -0.130368   \n",
       "...          ...           ...     ...     ...       ...       ...   \n",
       "9995    0.000379  200000000000 -143470  735610  0.020134  0.092072   \n",
       "9996    0.000379  200000000000  228511 -131279  0.001451 -0.009894   \n",
       "9997    0.000389  200000000000  508463  617533  0.031701  0.095048   \n",
       "9998    0.000379  200000000000  926644 -741264 -0.000846 -0.067582   \n",
       "9999    0.000582  200000000000 -601646 -973262 -0.030161 -0.095934   \n",
       "\n",
       "        Tension G0  sigma/sigma_adm G0  \n",
       "0     6.358790e+09           18.447315  \n",
       "1     2.817105e+09            8.172629  \n",
       "2     3.690815e+09           10.707326  \n",
       "3     5.416401e+08            1.571338  \n",
       "4     4.989715e+09           14.475528  \n",
       "...            ...                 ...  \n",
       "9995  2.979760e+09            8.644503  \n",
       "9996  4.898590e+08            1.421117  \n",
       "9997  3.445655e+09            9.996099  \n",
       "9998  2.765978e+09            8.024305  \n",
       "9999  3.326162e+09            9.649440  \n",
       "\n",
       "[10000 rows x 8 columns]"
      ]
     },
     "execution_count": 81,
     "metadata": {},
     "output_type": "execute_result"
    }
   ],
   "source": [
    "data"
   ]
  },
  {
   "cell_type": "code",
   "execution_count": 82,
   "metadata": {},
   "outputs": [
    {
     "data": {
      "text/html": [
       "<div>\n",
       "<style scoped>\n",
       "    .dataframe tbody tr th:only-of-type {\n",
       "        vertical-align: middle;\n",
       "    }\n",
       "\n",
       "    .dataframe tbody tr th {\n",
       "        vertical-align: top;\n",
       "    }\n",
       "\n",
       "    .dataframe thead th {\n",
       "        text-align: right;\n",
       "    }\n",
       "</style>\n",
       "<table border=\"1\" class=\"dataframe\">\n",
       "  <thead>\n",
       "    <tr style=\"text-align: right;\">\n",
       "      <th></th>\n",
       "      <th>Section G0</th>\n",
       "      <th>Fx</th>\n",
       "      <th>Fy</th>\n",
       "      <th>desloc_x</th>\n",
       "      <th>desloc_y</th>\n",
       "      <th>Tension G0</th>\n",
       "    </tr>\n",
       "  </thead>\n",
       "  <tbody>\n",
       "    <tr>\n",
       "      <th>0</th>\n",
       "      <td>0.000235</td>\n",
       "      <td>134227</td>\n",
       "      <td>-969227</td>\n",
       "      <td>-0.044982</td>\n",
       "      <td>-0.198496</td>\n",
       "      <td>6.358790e+09</td>\n",
       "    </tr>\n",
       "    <tr>\n",
       "      <th>1</th>\n",
       "      <td>0.000471</td>\n",
       "      <td>769976</td>\n",
       "      <td>447792</td>\n",
       "      <td>0.027013</td>\n",
       "      <td>0.067327</td>\n",
       "      <td>2.817105e+09</td>\n",
       "    </tr>\n",
       "    <tr>\n",
       "      <th>2</th>\n",
       "      <td>0.000349</td>\n",
       "      <td>689986</td>\n",
       "      <td>-878056</td>\n",
       "      <td>-0.012094</td>\n",
       "      <td>-0.101198</td>\n",
       "      <td>3.690815e+09</td>\n",
       "    </tr>\n",
       "    <tr>\n",
       "      <th>3</th>\n",
       "      <td>0.000379</td>\n",
       "      <td>-182321</td>\n",
       "      <td>145156</td>\n",
       "      <td>0.000144</td>\n",
       "      <td>0.013206</td>\n",
       "      <td>5.416401e+08</td>\n",
       "    </tr>\n",
       "    <tr>\n",
       "      <th>4</th>\n",
       "      <td>0.000235</td>\n",
       "      <td>805925</td>\n",
       "      <td>-812501</td>\n",
       "      <td>-0.009906</td>\n",
       "      <td>-0.130368</td>\n",
       "      <td>4.989715e+09</td>\n",
       "    </tr>\n",
       "    <tr>\n",
       "      <th>...</th>\n",
       "      <td>...</td>\n",
       "      <td>...</td>\n",
       "      <td>...</td>\n",
       "      <td>...</td>\n",
       "      <td>...</td>\n",
       "      <td>...</td>\n",
       "    </tr>\n",
       "    <tr>\n",
       "      <th>9995</th>\n",
       "      <td>0.000379</td>\n",
       "      <td>-143470</td>\n",
       "      <td>735610</td>\n",
       "      <td>0.020134</td>\n",
       "      <td>0.092072</td>\n",
       "      <td>2.979760e+09</td>\n",
       "    </tr>\n",
       "    <tr>\n",
       "      <th>9996</th>\n",
       "      <td>0.000379</td>\n",
       "      <td>228511</td>\n",
       "      <td>-131279</td>\n",
       "      <td>0.001451</td>\n",
       "      <td>-0.009894</td>\n",
       "      <td>4.898590e+08</td>\n",
       "    </tr>\n",
       "    <tr>\n",
       "      <th>9997</th>\n",
       "      <td>0.000389</td>\n",
       "      <td>508463</td>\n",
       "      <td>617533</td>\n",
       "      <td>0.031701</td>\n",
       "      <td>0.095048</td>\n",
       "      <td>3.445655e+09</td>\n",
       "    </tr>\n",
       "    <tr>\n",
       "      <th>9998</th>\n",
       "      <td>0.000379</td>\n",
       "      <td>926644</td>\n",
       "      <td>-741264</td>\n",
       "      <td>-0.000846</td>\n",
       "      <td>-0.067582</td>\n",
       "      <td>2.765978e+09</td>\n",
       "    </tr>\n",
       "    <tr>\n",
       "      <th>9999</th>\n",
       "      <td>0.000582</td>\n",
       "      <td>-601646</td>\n",
       "      <td>-973262</td>\n",
       "      <td>-0.030161</td>\n",
       "      <td>-0.095934</td>\n",
       "      <td>3.326162e+09</td>\n",
       "    </tr>\n",
       "  </tbody>\n",
       "</table>\n",
       "<p>10000 rows × 6 columns</p>\n",
       "</div>"
      ],
      "text/plain": [
       "      Section G0      Fx      Fy  desloc_x  desloc_y    Tension G0\n",
       "0       0.000235  134227 -969227 -0.044982 -0.198496  6.358790e+09\n",
       "1       0.000471  769976  447792  0.027013  0.067327  2.817105e+09\n",
       "2       0.000349  689986 -878056 -0.012094 -0.101198  3.690815e+09\n",
       "3       0.000379 -182321  145156  0.000144  0.013206  5.416401e+08\n",
       "4       0.000235  805925 -812501 -0.009906 -0.130368  4.989715e+09\n",
       "...          ...     ...     ...       ...       ...           ...\n",
       "9995    0.000379 -143470  735610  0.020134  0.092072  2.979760e+09\n",
       "9996    0.000379  228511 -131279  0.001451 -0.009894  4.898590e+08\n",
       "9997    0.000389  508463  617533  0.031701  0.095048  3.445655e+09\n",
       "9998    0.000379  926644 -741264 -0.000846 -0.067582  2.765978e+09\n",
       "9999    0.000582 -601646 -973262 -0.030161 -0.095934  3.326162e+09\n",
       "\n",
       "[10000 rows x 6 columns]"
      ]
     },
     "execution_count": 82,
     "metadata": {},
     "output_type": "execute_result"
    }
   ],
   "source": [
    "data = data.drop(['sigma/sigma_adm G0','Material G0'], axis = 1)\n",
    "data"
   ]
  },
  {
   "cell_type": "code",
   "execution_count": 83,
   "metadata": {},
   "outputs": [],
   "source": [
    "def display_scores(scores):\n",
    "    print(\"Scores:\", scores)\n",
    "    print(\"Mean:\", scores.mean())\n",
    "    print(\"Standard deviation:\", scores.std())"
   ]
  },
  {
   "cell_type": "code",
   "execution_count": 84,
   "metadata": {},
   "outputs": [],
   "source": [
    "x = data.drop(['desloc_x', 'desloc_y'], axis = 1)\n",
    "y = pd.DataFrame({'desloc_x': data.desloc_x, 'desloc_y': data.desloc_y})\n",
    "\n"
   ]
  },
  {
   "cell_type": "code",
   "execution_count": 85,
   "metadata": {},
   "outputs": [
    {
     "data": {
      "text/html": [
       "<div>\n",
       "<style scoped>\n",
       "    .dataframe tbody tr th:only-of-type {\n",
       "        vertical-align: middle;\n",
       "    }\n",
       "\n",
       "    .dataframe tbody tr th {\n",
       "        vertical-align: top;\n",
       "    }\n",
       "\n",
       "    .dataframe thead th {\n",
       "        text-align: right;\n",
       "    }\n",
       "</style>\n",
       "<table border=\"1\" class=\"dataframe\">\n",
       "  <thead>\n",
       "    <tr style=\"text-align: right;\">\n",
       "      <th></th>\n",
       "      <th>Section G0</th>\n",
       "      <th>Fx</th>\n",
       "      <th>Fy</th>\n",
       "      <th>Tension G0</th>\n",
       "    </tr>\n",
       "  </thead>\n",
       "  <tbody>\n",
       "    <tr>\n",
       "      <th>0</th>\n",
       "      <td>0.000235</td>\n",
       "      <td>134227</td>\n",
       "      <td>-969227</td>\n",
       "      <td>6.358790e+09</td>\n",
       "    </tr>\n",
       "    <tr>\n",
       "      <th>1</th>\n",
       "      <td>0.000471</td>\n",
       "      <td>769976</td>\n",
       "      <td>447792</td>\n",
       "      <td>2.817105e+09</td>\n",
       "    </tr>\n",
       "    <tr>\n",
       "      <th>2</th>\n",
       "      <td>0.000349</td>\n",
       "      <td>689986</td>\n",
       "      <td>-878056</td>\n",
       "      <td>3.690815e+09</td>\n",
       "    </tr>\n",
       "    <tr>\n",
       "      <th>3</th>\n",
       "      <td>0.000379</td>\n",
       "      <td>-182321</td>\n",
       "      <td>145156</td>\n",
       "      <td>5.416401e+08</td>\n",
       "    </tr>\n",
       "    <tr>\n",
       "      <th>4</th>\n",
       "      <td>0.000235</td>\n",
       "      <td>805925</td>\n",
       "      <td>-812501</td>\n",
       "      <td>4.989715e+09</td>\n",
       "    </tr>\n",
       "    <tr>\n",
       "      <th>...</th>\n",
       "      <td>...</td>\n",
       "      <td>...</td>\n",
       "      <td>...</td>\n",
       "      <td>...</td>\n",
       "    </tr>\n",
       "    <tr>\n",
       "      <th>9995</th>\n",
       "      <td>0.000379</td>\n",
       "      <td>-143470</td>\n",
       "      <td>735610</td>\n",
       "      <td>2.979760e+09</td>\n",
       "    </tr>\n",
       "    <tr>\n",
       "      <th>9996</th>\n",
       "      <td>0.000379</td>\n",
       "      <td>228511</td>\n",
       "      <td>-131279</td>\n",
       "      <td>4.898590e+08</td>\n",
       "    </tr>\n",
       "    <tr>\n",
       "      <th>9997</th>\n",
       "      <td>0.000389</td>\n",
       "      <td>508463</td>\n",
       "      <td>617533</td>\n",
       "      <td>3.445655e+09</td>\n",
       "    </tr>\n",
       "    <tr>\n",
       "      <th>9998</th>\n",
       "      <td>0.000379</td>\n",
       "      <td>926644</td>\n",
       "      <td>-741264</td>\n",
       "      <td>2.765978e+09</td>\n",
       "    </tr>\n",
       "    <tr>\n",
       "      <th>9999</th>\n",
       "      <td>0.000582</td>\n",
       "      <td>-601646</td>\n",
       "      <td>-973262</td>\n",
       "      <td>3.326162e+09</td>\n",
       "    </tr>\n",
       "  </tbody>\n",
       "</table>\n",
       "<p>10000 rows × 4 columns</p>\n",
       "</div>"
      ],
      "text/plain": [
       "      Section G0      Fx      Fy    Tension G0\n",
       "0       0.000235  134227 -969227  6.358790e+09\n",
       "1       0.000471  769976  447792  2.817105e+09\n",
       "2       0.000349  689986 -878056  3.690815e+09\n",
       "3       0.000379 -182321  145156  5.416401e+08\n",
       "4       0.000235  805925 -812501  4.989715e+09\n",
       "...          ...     ...     ...           ...\n",
       "9995    0.000379 -143470  735610  2.979760e+09\n",
       "9996    0.000379  228511 -131279  4.898590e+08\n",
       "9997    0.000389  508463  617533  3.445655e+09\n",
       "9998    0.000379  926644 -741264  2.765978e+09\n",
       "9999    0.000582 -601646 -973262  3.326162e+09\n",
       "\n",
       "[10000 rows x 4 columns]"
      ]
     },
     "execution_count": 85,
     "metadata": {},
     "output_type": "execute_result"
    }
   ],
   "source": [
    "x"
   ]
  },
  {
   "cell_type": "code",
   "execution_count": 86,
   "metadata": {},
   "outputs": [],
   "source": [
    "x_train, x_test, y_train, y_test = train_test_split(x, y, test_size=0.2, random_state=42)"
   ]
  },
  {
   "cell_type": "code",
   "execution_count": 87,
   "metadata": {},
   "outputs": [],
   "source": [
    "forest = RandomForestRegressor()\n",
    "forest.fit(x_train,y_train)\n",
    "forest_scores = cross_val_score(forest, x_train, y_train, scoring=\"neg_mean_squared_error\", cv=10)\n",
    "forest_rmse_scores = np.sqrt(-forest_scores)"
   ]
  },
  {
   "cell_type": "code",
   "execution_count": 88,
   "metadata": {},
   "outputs": [
    {
     "data": {
      "text/plain": [
       "<matplotlib.collections.PathCollection at 0x1d3298f8370>"
      ]
     },
     "execution_count": 88,
     "metadata": {},
     "output_type": "execute_result"
    },
    {
     "data": {
      "image/png": "[encoded data removed]",
      "text/plain": [
       "<Figure size 640x480 with 4 Axes>"
      ]
     },
     "metadata": {},
     "output_type": "display_data"
    }
   ],
   "source": [
    "fig, axs = plt.subplots(2, 2)\n",
    "\n",
    "axs[0, 0].scatter(x['Fy'], y['desloc_y'], color='red')\n",
    "axs[0, 1].scatter(x['Fx'], y['desloc_x'], color='blue')\n",
    "axs[1, 0].scatter(x['Tension G0'], y['desloc_y'], color='green')\n",
    "axs[1, 1].scatter(x['Tension G0'], y['desloc_x'], color='purple')\n"
   ]
  },
  {
   "cell_type": "code",
   "execution_count": 89,
   "metadata": {},
   "outputs": [
    {
     "name": "stdout",
     "output_type": "stream",
     "text": [
      "Scores: [0.00165539 0.00122396 0.00128968 0.00228083 0.00129837 0.00115488\n",
      " 0.00129878 0.00134863 0.00217895 0.00122045]\n",
      "Mean: 0.0014949905351204621\n",
      "Standard deviation: 0.0003893976226327089\n"
     ]
    }
   ],
   "source": [
    "display_scores(forest_rmse_scores)"
   ]
  },
  {
   "cell_type": "code",
   "execution_count": 91,
   "metadata": {},
   "outputs": [
    {
     "data": {
      "text/plain": [
       "0.0014949905351204621"
      ]
     },
     "execution_count": 91,
     "metadata": {},
     "output_type": "execute_result"
    }
   ],
   "source": [
    "forest_rmse_scores.mean()"
   ]
  },
  {
   "cell_type": "code",
   "execution_count": 124,
   "metadata": {},
   "outputs": [
    {
     "name": "stdout",
     "output_type": "stream",
     "text": [
      "-3.9361178942782885e-05\n",
      "-0.0001415771248497039\n",
      "\n",
      "\n",
      "-37.98%\n",
      "-10.56%\n"
     ]
    }
   ],
   "source": [
    "mediax = (data['desloc_x'].sum())/10000\n",
    "mediax = mediax\n",
    "print(mediax)\n",
    "mediay = (data['desloc_y'].sum())/10000\n",
    "mediay = mediay\n",
    "print(mediay)\n",
    "\n",
    "#Porcentagem de Erro\n",
    "\n",
    "errox = ((forest_rmse_scores.mean())/mediax)\n",
    "erroy = ((forest_rmse_scores.mean())/mediay)\n",
    "print('\\n')\n",
    "print(f'{np.round(errox,2)}%')\n",
    "print(f'{np.round(erroy,2)}%')"
   ]
  },
  {
   "cell_type": "code",
   "execution_count": 127,
   "metadata": {},
   "outputs": [
    {
     "name": "stdout",
     "output_type": "stream",
     "text": [
      "      desloc_x  desloc_y\n",
      "6252 -0.005052 -0.063320\n",
      "4684 -0.010848 -0.089313\n",
      "1731  0.006445  0.001873\n",
      "4742 -0.006164 -0.009766\n",
      "4521 -0.044241 -0.121271\n",
      "6340  0.037268  0.081613\n",
      "576   0.028529  0.114034\n",
      "5202 -0.047223 -0.144769\n",
      "6363  0.028539  0.109373\n",
      "439  -0.027674 -0.090967\n",
      "[[-0.00384437 -0.06183901]\n",
      " [-0.01044529 -0.08756065]\n",
      " [ 0.0066568   0.00199656]\n",
      " [-0.00618712 -0.00995065]\n",
      " [-0.04449794 -0.12406707]\n",
      " [ 0.03696234  0.08226013]\n",
      " [ 0.02895385  0.11358757]\n",
      " [-0.04717697 -0.14511707]\n",
      " [ 0.02835601  0.10874695]\n",
      " [-0.02752837 -0.09056882]]\n"
     ]
    }
   ],
   "source": [
    "some_data = x_test.iloc[:10]\n",
    "some_label = y_test.iloc[:10]\n",
    "y_pred = forest.predict(some_data)\n",
    "\n",
    "print(some_label)\n",
    "print(y_pred)"
   ]
  },
  {
   "cell_type": "code",
   "execution_count": 129,
   "metadata": {},
   "outputs": [],
   "source": [
    "dectree= DecisionTreeRegressor()\n",
    "dectree.fit(x_train,y_train)\n",
    "some_data = x_test.iloc[:5]\n",
    "some_label = y_test.iloc[:5]\n",
    "\n",
    "dectree_scores = cross_val_score(dectree, x_train, y_train, scoring=\"neg_mean_squared_error\", cv=10)\n",
    "dectree_rmse_scores = np.sqrt(-dectree_scores)"
   ]
  },
  {
   "cell_type": "code",
   "execution_count": 131,
   "metadata": {},
   "outputs": [
    {
     "name": "stdout",
     "output_type": "stream",
     "text": [
      "Scores: [0.0027788  0.00259796 0.00273929 0.00265963 0.00285239 0.00255071\n",
      " 0.00256459 0.00260808 0.0029807  0.00269382]\n",
      "Mean: 0.0027025956160564245\n",
      "Standard deviation: 0.00013071084715856015\n"
     ]
    }
   ],
   "source": [
    "display_scores(dectree_rmse_scores)"
   ]
  },
  {
   "cell_type": "markdown",
   "metadata": {},
   "source": [
    "Testando Random Forest sem a variável tensão G0"
   ]
  },
  {
   "cell_type": "code",
   "execution_count": 61,
   "metadata": {},
   "outputs": [],
   "source": [
    "x = data.drop(['desloc_x', 'desloc_y', 'Tension G0'], axis = 1)\n",
    "y = pd.DataFrame({'desloc_x': data.desloc_x, 'desloc_y': data.desloc_y})\n"
   ]
  },
  {
   "cell_type": "code",
   "execution_count": 62,
   "metadata": {},
   "outputs": [],
   "source": [
    "x_train, x_test, y_train, y_test = train_test_split(x, y, test_size=0.2, random_state=42)"
   ]
  },
  {
   "cell_type": "code",
   "execution_count": 66,
   "metadata": {},
   "outputs": [
    {
     "data": {
      "text/html": [
       "<div>\n",
       "<style scoped>\n",
       "    .dataframe tbody tr th:only-of-type {\n",
       "        vertical-align: middle;\n",
       "    }\n",
       "\n",
       "    .dataframe tbody tr th {\n",
       "        vertical-align: top;\n",
       "    }\n",
       "\n",
       "    .dataframe thead th {\n",
       "        text-align: right;\n",
       "    }\n",
       "</style>\n",
       "<table border=\"1\" class=\"dataframe\">\n",
       "  <thead>\n",
       "    <tr style=\"text-align: right;\">\n",
       "      <th></th>\n",
       "      <th>Section G0</th>\n",
       "      <th>Fx</th>\n",
       "      <th>Fy</th>\n",
       "    </tr>\n",
       "  </thead>\n",
       "  <tbody>\n",
       "    <tr>\n",
       "      <th>0</th>\n",
       "      <td>0.000235</td>\n",
       "      <td>134227</td>\n",
       "      <td>-969227</td>\n",
       "    </tr>\n",
       "    <tr>\n",
       "      <th>1</th>\n",
       "      <td>0.000471</td>\n",
       "      <td>769976</td>\n",
       "      <td>447792</td>\n",
       "    </tr>\n",
       "    <tr>\n",
       "      <th>2</th>\n",
       "      <td>0.000349</td>\n",
       "      <td>689986</td>\n",
       "      <td>-878056</td>\n",
       "    </tr>\n",
       "    <tr>\n",
       "      <th>3</th>\n",
       "      <td>0.000379</td>\n",
       "      <td>-182321</td>\n",
       "      <td>145156</td>\n",
       "    </tr>\n",
       "    <tr>\n",
       "      <th>4</th>\n",
       "      <td>0.000235</td>\n",
       "      <td>805925</td>\n",
       "      <td>-812501</td>\n",
       "    </tr>\n",
       "    <tr>\n",
       "      <th>...</th>\n",
       "      <td>...</td>\n",
       "      <td>...</td>\n",
       "      <td>...</td>\n",
       "    </tr>\n",
       "    <tr>\n",
       "      <th>9995</th>\n",
       "      <td>0.000379</td>\n",
       "      <td>-143470</td>\n",
       "      <td>735610</td>\n",
       "    </tr>\n",
       "    <tr>\n",
       "      <th>9996</th>\n",
       "      <td>0.000379</td>\n",
       "      <td>228511</td>\n",
       "      <td>-131279</td>\n",
       "    </tr>\n",
       "    <tr>\n",
       "      <th>9997</th>\n",
       "      <td>0.000389</td>\n",
       "      <td>508463</td>\n",
       "      <td>617533</td>\n",
       "    </tr>\n",
       "    <tr>\n",
       "      <th>9998</th>\n",
       "      <td>0.000379</td>\n",
       "      <td>926644</td>\n",
       "      <td>-741264</td>\n",
       "    </tr>\n",
       "    <tr>\n",
       "      <th>9999</th>\n",
       "      <td>0.000582</td>\n",
       "      <td>-601646</td>\n",
       "      <td>-973262</td>\n",
       "    </tr>\n",
       "  </tbody>\n",
       "</table>\n",
       "<p>10000 rows × 3 columns</p>\n",
       "</div>"
      ],
      "text/plain": [
       "      Section G0      Fx      Fy\n",
       "0       0.000235  134227 -969227\n",
       "1       0.000471  769976  447792\n",
       "2       0.000349  689986 -878056\n",
       "3       0.000379 -182321  145156\n",
       "4       0.000235  805925 -812501\n",
       "...          ...     ...     ...\n",
       "9995    0.000379 -143470  735610\n",
       "9996    0.000379  228511 -131279\n",
       "9997    0.000389  508463  617533\n",
       "9998    0.000379  926644 -741264\n",
       "9999    0.000582 -601646 -973262\n",
       "\n",
       "[10000 rows x 3 columns]"
      ]
     },
     "execution_count": 66,
     "metadata": {},
     "output_type": "execute_result"
    }
   ],
   "source": [
    "x"
   ]
  },
  {
   "cell_type": "code",
   "execution_count": 67,
   "metadata": {},
   "outputs": [
    {
     "data": {
      "text/html": [
       "<div>\n",
       "<style scoped>\n",
       "    .dataframe tbody tr th:only-of-type {\n",
       "        vertical-align: middle;\n",
       "    }\n",
       "\n",
       "    .dataframe tbody tr th {\n",
       "        vertical-align: top;\n",
       "    }\n",
       "\n",
       "    .dataframe thead th {\n",
       "        text-align: right;\n",
       "    }\n",
       "</style>\n",
       "<table border=\"1\" class=\"dataframe\">\n",
       "  <thead>\n",
       "    <tr style=\"text-align: right;\">\n",
       "      <th></th>\n",
       "      <th>desloc_x</th>\n",
       "      <th>desloc_y</th>\n",
       "    </tr>\n",
       "  </thead>\n",
       "  <tbody>\n",
       "    <tr>\n",
       "      <th>0</th>\n",
       "      <td>-0.044982</td>\n",
       "      <td>-0.198496</td>\n",
       "    </tr>\n",
       "    <tr>\n",
       "      <th>1</th>\n",
       "      <td>0.027013</td>\n",
       "      <td>0.067327</td>\n",
       "    </tr>\n",
       "    <tr>\n",
       "      <th>2</th>\n",
       "      <td>-0.012094</td>\n",
       "      <td>-0.101198</td>\n",
       "    </tr>\n",
       "    <tr>\n",
       "      <th>3</th>\n",
       "      <td>0.000144</td>\n",
       "      <td>0.013206</td>\n",
       "    </tr>\n",
       "    <tr>\n",
       "      <th>4</th>\n",
       "      <td>-0.009906</td>\n",
       "      <td>-0.130368</td>\n",
       "    </tr>\n",
       "    <tr>\n",
       "      <th>...</th>\n",
       "      <td>...</td>\n",
       "      <td>...</td>\n",
       "    </tr>\n",
       "    <tr>\n",
       "      <th>9995</th>\n",
       "      <td>0.020134</td>\n",
       "      <td>0.092072</td>\n",
       "    </tr>\n",
       "    <tr>\n",
       "      <th>9996</th>\n",
       "      <td>0.001451</td>\n",
       "      <td>-0.009894</td>\n",
       "    </tr>\n",
       "    <tr>\n",
       "      <th>9997</th>\n",
       "      <td>0.031701</td>\n",
       "      <td>0.095048</td>\n",
       "    </tr>\n",
       "    <tr>\n",
       "      <th>9998</th>\n",
       "      <td>-0.000846</td>\n",
       "      <td>-0.067582</td>\n",
       "    </tr>\n",
       "    <tr>\n",
       "      <th>9999</th>\n",
       "      <td>-0.030161</td>\n",
       "      <td>-0.095934</td>\n",
       "    </tr>\n",
       "  </tbody>\n",
       "</table>\n",
       "<p>10000 rows × 2 columns</p>\n",
       "</div>"
      ],
      "text/plain": [
       "      desloc_x  desloc_y\n",
       "0    -0.044982 -0.198496\n",
       "1     0.027013  0.067327\n",
       "2    -0.012094 -0.101198\n",
       "3     0.000144  0.013206\n",
       "4    -0.009906 -0.130368\n",
       "...        ...       ...\n",
       "9995  0.020134  0.092072\n",
       "9996  0.001451 -0.009894\n",
       "9997  0.031701  0.095048\n",
       "9998 -0.000846 -0.067582\n",
       "9999 -0.030161 -0.095934\n",
       "\n",
       "[10000 rows x 2 columns]"
      ]
     },
     "execution_count": 67,
     "metadata": {},
     "output_type": "execute_result"
    }
   ],
   "source": [
    "y"
   ]
  },
  {
   "cell_type": "code",
   "execution_count": 63,
   "metadata": {},
   "outputs": [],
   "source": [
    "forest2 = RandomForestRegressor()\n",
    "forest2.fit(x_train,y_train)\n",
    "forest_scores2 = cross_val_score(forest2, x_train, y_train, scoring=\"neg_mean_squared_error\", cv=10)\n",
    "forest_rmse_scores2 = np.sqrt(-forest_scores2)"
   ]
  },
  {
   "cell_type": "code",
   "execution_count": 64,
   "metadata": {},
   "outputs": [
    {
     "name": "stdout",
     "output_type": "stream",
     "text": [
      "Scores: [0.00204656 0.00208899 0.00192677 0.0021475  0.00205111 0.00200853\n",
      " 0.00208879 0.0022352  0.00196061 0.002056  ]\n",
      "Mean: 0.002061005086431904\n",
      "Standard deviation: 8.400191071848047e-05\n"
     ]
    }
   ],
   "source": [
    "display_scores(forest_rmse_scores2)"
   ]
  },
  {
   "cell_type": "code",
   "execution_count": 76,
   "metadata": {},
   "outputs": [
    {
     "data": {
      "text/plain": [
       "<matplotlib.collections.PathCollection at 0x1d329f33c70>"
      ]
     },
     "execution_count": 76,
     "metadata": {},
     "output_type": "execute_result"
    },
    {
     "data": {
      "image/png": "[encoded data removed]",
      "text/plain": [
       "<Figure size 640x480 with 2 Axes>"
      ]
     },
     "metadata": {},
     "output_type": "display_data"
    }
   ],
   "source": [
    "fig, axs = plt.subplots(2,2)\n",
    "\n",
    "axs[0,0].scatter(x['Fy'], y['desloc_y'], color='red')\n",
    "axs[1,0].scatter(x['Fx'], y['desloc_x'], color='blue')"
   ]
  },
  {
   "cell_type": "code",
   "execution_count": null,
   "metadata": {},
   "outputs": [
    {
     "name": "stdout",
     "output_type": "stream",
     "text": [
      "      desloc_x  desloc_y\n",
      "6252 -0.005052 -0.063320\n",
      "4684 -0.010848 -0.089313\n",
      "1731  0.006445  0.001873\n",
      "4742 -0.006164 -0.009766\n",
      "4521 -0.044241 -0.121271\n",
      "[[-0.00665843 -0.06269511]\n",
      " [-0.01160859 -0.09262047]\n",
      " [ 0.00660405  0.00184724]\n",
      " [-0.00577076 -0.00912289]\n",
      " [-0.0437751  -0.12062012]]\n"
     ]
    }
   ],
   "source": [
    "some_data = x_test.iloc[:5]\n",
    "some_label = y_test.iloc[:5]\n",
    "y_pred = forest2.predict(some_data)\n",
    "\n",
    "print(some_label)\n",
    "print(y_pred)"
   ]
  }
 ],
 "metadata": {
  "kernelspec": {
   "display_name": "Python 3",
   "language": "python",
   "name": "python3"
  },
  "language_info": {
   "codemirror_mode": {
    "name": "ipython",
    "version": 3
   },
   "file_extension": ".py",
   "mimetype": "text/x-python",
   "name": "python",
   "nbconvert_exporter": "python",
   "pygments_lexer": "ipython3",
   "version": "3.10.10"
  },
  "orig_nbformat": 4
 },
 "nbformat": 4,
 "nbformat_minor": 2
}
