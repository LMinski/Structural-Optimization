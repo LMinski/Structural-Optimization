{
 "cells": [
  {
   "cell_type": "code",
   "execution_count": 292,
   "metadata": {},
   "outputs": [
    {
     "data": {
      "text/plain": [
       "'\\nBacktracking Search Optimization Algorithm (BSA)\\nPlatform: Matlab 2013a   \\nCite this algorithm as;\\n[1]  P. Civicioglu, \"Backtracking Search Optimization Algorithm for \\nnumerical optimization problems\", Applied Mathematics and Computation,\\n219, 8121-8144, 2013.\\nCopyright Notice\\nCopyright (c) 2012, Pinar Civicioglu\\nAll rights reserved.\\nRedistribution and use in source and binary forms, with or without \\nmodification, are permitted provided that the following conditions are \\nmet:\\n    * Redistributions of source code must retain the above copyright \\n      notice, this list of conditions and the following disclaimer.\\n    * Redistributions in binary form must reproduce the copyright \\n      notice, this list of conditions and the following disclaimer in \\n      the documentation and/or other materials provided with the distribution\\n      \\nTHIS SOFTWARE IS PROVIDED BY THE COPYRIGHT HOLDERS AND CONTRIBUTORS \"AS IS\" \\nAND ANY EXPRESS OR IMPLIED WARRANTIES, INCLUDING, BUT NOT LIMITED TO, THE \\nIMPLIED WARRANTIES OF MERCHANTABILITY AND FITNESS FOR A PARTICULAR PURPOSE \\nARE DISCLAIMED. IN NO EVENT SHALL THE COPYRIGHT OWNER OR CONTRIBUTORS BE \\nLIABLE FOR ANY DIRECT, INDIRECT, INCIDENTAL, SPECIAL, EXEMPLARY, OR \\nCONSEQUENTIAL DAMAGES (INCLUDING, BUT NOT LIMITED TO, PROCUREMENT OF \\nSUBSTITUTE GOODS OR SERVICES; LOSS OF USE, DATA, OR PROFITS; OR BUSINESS \\nINTERRUPTION) HOWEVER CAUSED AND ON ANY THEORY OF LIABILITY, WHETHER IN \\nCONTRACT, STRICT LIABILITY, OR TORT (INCLUDING NEGLIGENCE OR OTHERWISE) \\nARISING IN ANY WAY OUT OF THE USE OF THIS SOFTWARE, EVEN IF ADVISED OF THE \\nPOSSIBILITY OF SUCH DAMAGE.\\n'"
      ]
     },
     "execution_count": 292,
     "metadata": {},
     "output_type": "execute_result"
    }
   ],
   "source": [
    "\"\"\"\n",
    "Backtracking Search Optimization Algorithm (BSA)\n",
    "Platform: Matlab 2013a   \n",
    "Cite this algorithm as;\n",
    "[1]  P. Civicioglu, \"Backtracking Search Optimization Algorithm for \n",
    "numerical optimization problems\", Applied Mathematics and Computation,\n",
    "219, 8121-8144, 2013.\n",
    "Copyright Notice\n",
    "Copyright (c) 2012, Pinar Civicioglu\n",
    "All rights reserved.\n",
    "Redistribution and use in source and binary forms, with or without \n",
    "modification, are permitted provided that the following conditions are \n",
    "met:\n",
    "    * Redistributions of source code must retain the above copyright \n",
    "      notice, this list of conditions and the following disclaimer.\n",
    "    * Redistributions in binary form must reproduce the copyright \n",
    "      notice, this list of conditions and the following disclaimer in \n",
    "      the documentation and/or other materials provided with the distribution\n",
    "      \n",
    "THIS SOFTWARE IS PROVIDED BY THE COPYRIGHT HOLDERS AND CONTRIBUTORS \"AS IS\" \n",
    "AND ANY EXPRESS OR IMPLIED WARRANTIES, INCLUDING, BUT NOT LIMITED TO, THE \n",
    "IMPLIED WARRANTIES OF MERCHANTABILITY AND FITNESS FOR A PARTICULAR PURPOSE \n",
    "ARE DISCLAIMED. IN NO EVENT SHALL THE COPYRIGHT OWNER OR CONTRIBUTORS BE \n",
    "LIABLE FOR ANY DIRECT, INDIRECT, INCIDENTAL, SPECIAL, EXEMPLARY, OR \n",
    "CONSEQUENTIAL DAMAGES (INCLUDING, BUT NOT LIMITED TO, PROCUREMENT OF \n",
    "SUBSTITUTE GOODS OR SERVICES; LOSS OF USE, DATA, OR PROFITS; OR BUSINESS \n",
    "INTERRUPTION) HOWEVER CAUSED AND ON ANY THEORY OF LIABILITY, WHETHER IN \n",
    "CONTRACT, STRICT LIABILITY, OR TORT (INCLUDING NEGLIGENCE OR OTHERWISE) \n",
    "ARISING IN ANY WAY OUT OF THE USE OF THIS SOFTWARE, EVEN IF ADVISED OF THE \n",
    "POSSIBILITY OF SUCH DAMAGE.\n",
    "\"\"\""
   ]
  },
  {
   "cell_type": "code",
   "execution_count": 293,
   "metadata": {},
   "outputs": [],
   "source": [
    "import numpy as np\n",
    "import time\n",
    "from datetime import timedelta"
   ]
  },
  {
   "attachments": {},
   "cell_type": "markdown",
   "metadata": {},
   "source": [
    "### Functions for BSA"
   ]
  },
  {
   "cell_type": "code",
   "execution_count": 294,
   "metadata": {},
   "outputs": [],
   "source": [
    "def generate_population(popsize, dim, low, up):\n",
    "    \"\"\"\n",
    "    Generates a random population\n",
    "    \"\"\"\n",
    "    pop = np.zeros((popsize, dim))\n",
    "    for i in range(popsize):\n",
    "        pop[i,:] = np.random.rand(1, dim)*(up - low) + low\n",
    "        \n",
    "    return pop\n"
   ]
  },
  {
   "cell_type": "code",
   "execution_count": 295,
   "metadata": {},
   "outputs": [],
   "source": [
    "def boundary_control(pop, low, up):\n",
    "    \"\"\"\n",
    "    Controls the boundary to stay between low and up\n",
    "    \"\"\"\n",
    "    popsize, dim = pop.shape\n",
    "    for i in range(popsize):\n",
    "        for j in range(dim):\n",
    "            k = np.random.rand() < np.random.rand() # you can change boundary-control strategy\n",
    "            if pop[i,j] < low[j]:\n",
    "                if k:\n",
    "                    pop[i,j] = low[j]\n",
    "                else:\n",
    "                    pop[i,j] = np.random.rand()*(up[j] - low[j]) + low[j]\n",
    "                    \n",
    "            if pop[i,j] > up[j]:\n",
    "                if k:\n",
    "                    pop[i,j] = up[j]\n",
    "                else:\n",
    "                    pop[i,j] = np.random.rand()*(up[j] - low[j]) + low[j]\n",
    "    \n",
    "    return pop\n"
   ]
  },
  {
   "cell_type": "code",
   "execution_count": 296,
   "metadata": {},
   "outputs": [],
   "source": [
    "def feval(fnc, pop):\n",
    "    \"\"\"\n",
    "    Iterates over pop and sends the cost\n",
    "    of each individual of the population\n",
    "    \"\"\"\n",
    "    cost = np.zeros((pop.shape[0]))\n",
    "    for idx, p in enumerate(pop):\n",
    "        cost[idx] = fnc(p)\n",
    "    \n",
    "    return cost\n"
   ]
  },
  {
   "cell_type": "code",
   "execution_count": 297,
   "metadata": {},
   "outputs": [],
   "source": [
    "def convert_time(s):\n",
    "    \"\"\"\n",
    "    Provided a time 's' in seconds,\n",
    "    this method converts to a string\n",
    "    in a format hh:mm:ss\n",
    "    \"\"\"\n",
    "    hours, remainder = divmod(s, 3600)\n",
    "    minutes, seconds = divmod(remainder, 60)\n",
    "    \n",
    "    return '{:02}:{:02}:{:02}'.format(int(hours), int(minutes), int(seconds))\n"
   ]
  },
  {
   "attachments": {},
   "cell_type": "markdown",
   "metadata": {},
   "source": [
    "# Backtracking Search Optimization Algorithm (BSA)"
   ]
  },
  {
   "cell_type": "code",
   "execution_count": 298,
   "metadata": {},
   "outputs": [],
   "source": [
    "def bsa(fnc, bounds, popsize=32, epoch=100):\n",
    "    \"\"\"Backtracking Search Optimization Algorithm (BSA)\n",
    "\n",
    "    Args:\n",
    "        fnc (method): insert your objective function\n",
    "        bounds (nested tuple): bounds as ((a, b), (c, d), (e, f))\n",
    "            the first index of the nested tuple is for the lower bound\n",
    "            and the last for the upper bound of the variable\n",
    "        popsize (int, optional): size of the population. Defaults to 32.\n",
    "        epoch (int, optional): amount of iterations. Defaults to 100.\n",
    "            epoch*popsize equals to the number of objective function evaluations\n",
    "\n",
    "    Returns:\n",
    "        results (object):\n",
    "            results.x is the globalminimizer array,\n",
    "                i.e., optimum values for the variables\n",
    "            results.y is the globalminimum scalar,\n",
    "                i.e., the optimum cost with the variables results.x\n",
    "            results.convergence shows the history of the results.y\n",
    "    \"\"\"\n",
    "    \n",
    "    # INITIALIZATION\n",
    "    DIM_RATE = 1\n",
    "    low, up = np.zeros((len(bounds))), np.zeros((len(bounds)))\n",
    "    for idx, b in enumerate(bounds):\n",
    "        low[idx] = b[0]\n",
    "        up[idx] = b[1]\n",
    "    \n",
    "    dim = len(bounds)\n",
    "    \n",
    "    pop = generate_population(popsize, dim, low, up) # see Eq.1 in [1]\n",
    "    fitnesspop = feval(fnc, pop)\n",
    "    historical_pop = generate_population(popsize, dim, low, up) # see Eq.2 in [1]\n",
    "\n",
    "    # historical_pop  is swarm-memory of BSA as mentioned in [1].\n",
    "    \n",
    "    # ------------------------------------------------------------------------------------------\n",
    "    elapsed_time = 0\n",
    "    cost_history = np.zeros((epoch))\n",
    "    for epk in range(epoch):\n",
    "        start = time.time()\n",
    "        # SELECTION-I\n",
    "        if np.random.rand() < np.random.rand():\n",
    "            historical_pop = pop  # see Eq.3 in [1]\n",
    "        \n",
    "        historical_pop = historical_pop[np.random.permutation(popsize), :] # see Eq.4 in [1]\n",
    "        \n",
    "        F = 3*np.random.standard_normal() # see Eq.5 in [1], you can other F generation strategies \n",
    "        map_ = np.zeros((popsize, dim)) # see Algorithm-2 in [1]\n",
    "          \n",
    "        if np.random.rand() < np.random.rand():\n",
    "            for i in range(popsize):\n",
    "                u = np.random.permutation(dim)\n",
    "                map_[i, u[np.arange(0, np.ceil(DIM_RATE*np.random.rand()*dim), dtype='int32')]] = 1\n",
    "        else:\n",
    "            for i in range(popsize):\n",
    "                map_[i, np.random.randint(dim)] = 1\n",
    "        \n",
    "        # RECOMBINATION (MUTATION+CROSSOVER)\n",
    "        offsprings = pop + (map_*F)*(historical_pop - pop) # see Eq.5 in [1]\n",
    "        offsprings = boundary_control(offsprings, low, up) # see Algorithm-3 in [1]\n",
    "        \n",
    "        # SELECTON-II\n",
    "        fitnessoffsprings = feval(fnc,offsprings)\n",
    "        ind = fitnessoffsprings < fitnesspop\n",
    "        fitnesspop[ind] = fitnessoffsprings[ind]\n",
    "        pop[ind,:] = offsprings[ind,:]\n",
    "        globalminimum = np.min(fitnesspop)\n",
    "        cost_history[epk] = globalminimum\n",
    "        ind = fitnesspop == globalminimum\n",
    "        globalminimizer = pop[ind,:]\n",
    "        globalminimizer = globalminimizer[0,:]\n",
    "        \n",
    "        # Calculate reamining time\n",
    "        porcentagem = (epk/epoch)*100\n",
    "        end = time.time()\n",
    "        if porcentagem % 50 == 0:\n",
    "            duration = end - start\n",
    "            total_time = duration * epoch\n",
    "            elapsed_time = duration * epk\n",
    "            remaining_time = total_time - elapsed_time\n",
    "            \n",
    "            # print(f'Best = {globalminimum:20.8f}   ###   ( {porcentagem:3.0f}% completed ): '\n",
    "            #       f'Elapsed time {convert_time(elapsed_time)} -- '  \n",
    "            #       f'Reamining time {convert_time(remaining_time)} -- '\n",
    "            #       f'Predicted time {convert_time(total_time)}')\n",
    "    \n",
    "    class results:\n",
    "        x = globalminimizer\n",
    "        y = globalminimum\n",
    "        convergence = cost_history\n",
    "    \n",
    "    print(f'Best = {globalminimum:20.8f}; x* = {np.array(globalminimizer, dtype=\"int32\")}; '\n",
    "          f'{epoch} generations; {popsize} individuals')\n",
    "    return results"
   ]
  },
  {
   "attachments": {},
   "cell_type": "markdown",
   "metadata": {},
   "source": [
    "# Test BSA"
   ]
  },
  {
   "cell_type": "code",
   "execution_count": 299,
   "metadata": {},
   "outputs": [
    {
     "name": "stdout",
     "output_type": "stream",
     "text": [
      "Best =     3545269.47828331; x* = [11  1 13  5  1  3 13]; 1000 generations; 32 individuals\n",
      "Best =     3532541.55622195; x* = [11  1 13  8  1  3 11]; 1000 generations; 32 individuals\n",
      "Best =     3532541.55622195; x* = [11  1 13  8  1  3 11]; 1000 generations; 32 individuals\n",
      "Best =     3541399.42059822; x* = [12  1 13  3  1 10 11]; 1000 generations; 32 individuals\n",
      "Best =     3532541.55622195; x* = [11  1 13  8  1  3 11]; 1000 generations; 32 individuals\n",
      "Best =     3531524.31227925; x* = [12  1 13  6  1  8 11]; 1000 generations; 32 individuals\n",
      "Best =     3531524.31227925; x* = [12  1 13  6  1  8 11]; 1000 generations; 32 individuals\n",
      "Best =     3541399.42059822; x* = [12  1 13  3  1 10 11]; 1000 generations; 32 individuals\n",
      "Best of all runs: 3531524.3122792495; x* = [12  1 13  6  1  8 11]\n"
     ]
    },
    {
     "data": {
      "text/plain": [
       "<matplotlib.legend.Legend at 0x1f82a862f10>"
      ]
     },
     "execution_count": 299,
     "metadata": {},
     "output_type": "execute_result"
    },
    {
     "data": {
      "image/png": "[encoded data removed]",
      "text/plain": [
       "<Figure size 640x480 with 1 Axes>"
      ]
     },
     "metadata": {},
     "output_type": "display_data"
    }
   ],
   "source": [
    "from trelica_2D import trelica\n",
    "import matplotlib.pyplot as plt\n",
    "\n",
    "# SET BSA PARAMETERS\n",
    "bounds = (1, 13), (1, 13), (1, 13), (1, 13), (1, 13), (1, 13), (1, 13)\n",
    "popsize = 32\n",
    "epoch = 1000\n",
    "\n",
    "# Some variables for the loop below\n",
    "line_style = [\n",
    "    'solid',   # Same as (0, ()) or '-'\n",
    "    'solid',\n",
    "    'dotted',  # Same as (0, (1, 1)) or ':'\n",
    "    'dotted',\n",
    "    'dashed',  # Same as '--'\n",
    "    'dashed',\n",
    "    'dashdot', # Same as '-.'\n",
    "    'dashdot',\n",
    "    ]\n",
    "\n",
    "best = np.inf\n",
    "leg = []\n",
    "\n",
    "# Run BSA 5 times\n",
    "for run in range(8):\n",
    "    results = bsa(trelica, bounds, popsize=popsize, epoch=epoch)\n",
    "    \n",
    "    if results.y < best:\n",
    "        best = results.y\n",
    "        x_best = results.x\n",
    "        best_convergence = results.convergence\n",
    "    \n",
    "    leg.append('Run ' + str(run))\n",
    "    # Plot convergence\n",
    "    plt.plot(np.arange(results.convergence.shape[0]), results.convergence, linestyle=line_style[run], linewidth=3-run*0.15)\n",
    "\n",
    "# Print best result of all 5 runs\n",
    "print(f'Best of all runs: {best}; x* = {np.array(x_best, dtype=\"int32\")}')\n",
    "\n",
    "# Limit plot for best visualization\n",
    "best = results.y\n",
    "log = np.log10(best)\n",
    "ymin = np.ceil(best/(10**np.floor(log)))*(10**np.floor(log)) - 1*(10**np.floor(log))\n",
    "ymax = np.ceil(best/(10**np.floor(log)))*(10**np.floor(log)) + 1*(10**np.floor(log))\n",
    "plt.ylim([ymin, ymax])\n",
    "plt.xlabel('Iteration')\n",
    "plt.ylabel('Cost')\n",
    "plt.legend(leg)\n",
    "# Best of all runs: 3531524.3122792495; x* = [12  1 13  6  1  8 11]"
   ]
  }
 ],
 "metadata": {
  "kernelspec": {
   "display_name": "Python 3",
   "language": "python",
   "name": "python3"
  },
  "language_info": {
   "codemirror_mode": {
    "name": "ipython",
    "version": 3
   },
   "file_extension": ".py",
   "mimetype": "text/x-python",
   "name": "python",
   "nbconvert_exporter": "python",
   "pygments_lexer": "ipython3",
   "version": "3.11.2"
  },
  "orig_nbformat": 4
 },
 "nbformat": 4,
 "nbformat_minor": 2
}
