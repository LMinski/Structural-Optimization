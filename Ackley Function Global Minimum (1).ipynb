{
 "cells": [
  {
   "cell_type": "code",
   "execution_count": 1,
   "metadata": {},
   "outputs": [],
   "source": [
    "import numpy as np\n",
    "import sys\n",
    "import matplotlib.pyplot as plt\n",
    "from scipy.optimize import differential_evolution\n",
    "c = 0"
   ]
  },
  {
   "cell_type": "code",
   "execution_count": 9,
   "metadata": {},
   "outputs": [],
   "source": [
    "#função\n",
    "from multiprocessing.resource_sharer import stop\n",
    "\n",
    "\n",
    "def ackley(x):\n",
    "    global c\n",
    "    sum = -20. * np.exp(-0.2 * np.sqrt(0.5 * (x[0] ** 2 + x[1] ** 2))) - np.exp(0.5 *(np.cos(2. * np.pi * x[0]) + np.cos(2. * np.pi * x[1]))) + 20. + np.e\n",
    "    if c > 50:\n",
    "        return sum\n",
    "    c += 1\n",
    "    return sum"
   ]
  },
  {
   "cell_type": "code",
   "execution_count": 12,
   "metadata": {},
   "outputs": [
    {
     "name": "stdout",
     "output_type": "stream",
     "text": [
      "Diferrential Evolution\n",
      "2.0217680418710415e-08 [-5.11714021e-09 -4.99091160e-09] custo : 51\n",
      "shgo\n",
      "3.606221987695335e-10 [-9.01815836e-11 -9.01300383e-11] custo : 48\n",
      "Dual Annealing\n",
      "3.57445187725768 [-0.96847766  0.96847766] custo : 51\n"
     ]
    }
   ],
   "source": [
    "#suposições dos pontos, utilização da função differential_evolution e plotagem da posição x e valor da função no ponto x1 e x2\n",
    "from scipy.optimize import differential_evolution\n",
    "from scipy.optimize import shgo\n",
    "from scipy.optimize import dual_annealing\n",
    "\n",
    "bounds = (-32.768, 32.768), (-32.768, 32.768)\n",
    "\n",
    "print(\"Diferrential Evolution\")\n",
    "\n",
    "result = differential_evolution(ackley, bounds , maxiter = 10 , popsize = 100 )\n",
    "print(result.fun, result.x, \"custo :\", c)\n",
    "print(\"shgo\")\n",
    "c = 0\n",
    "\n",
    "\n",
    "result1 = shgo(ackley, bounds)\n",
    "print(result1.fun, result1.x, \"custo :\", c)\n",
    "print(\"Dual Annealing\")\n",
    "c = 0\n",
    "\n",
    "\n",
    "result2 = dual_annealing(ackley, bounds, maxiter=100)\n",
    "print (result2.fun, result2.x, \"custo :\", c)\n"
   ]
  },
  {
   "cell_type": "code",
   "execution_count": null,
   "metadata": {},
   "outputs": [],
   "source": []
  }
 ],
 "metadata": {
  "kernelspec": {
   "display_name": "Python 3 (ipykernel)",
   "language": "python",
   "name": "python3"
  },
  "language_info": {
   "codemirror_mode": {
    "name": "ipython",
    "version": 3
   },
   "file_extension": ".py",
   "mimetype": "text/x-python",
   "name": "python",
   "nbconvert_exporter": "python",
   "pygments_lexer": "ipython3",
   "version": "3.9.12"
  },
  "vscode": {
   "interpreter": {
    "hash": "ad2bdc8ecc057115af97d19610ffacc2b4e99fae6737bb82f5d7fb13d2f2c186"
   }
  }
 },
 "nbformat": 4,
 "nbformat_minor": 2
}
