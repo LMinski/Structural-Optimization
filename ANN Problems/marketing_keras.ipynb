{
 "cells": [
  {
   "cell_type": "code",
   "execution_count": 137,
   "metadata": {},
   "outputs": [],
   "source": [
    "import pandas as pd\n",
    "import matplotlib.pyplot as plt\n",
    "import keras \n",
    "import tensorflow as tf\n"
   ]
  },
  {
   "cell_type": "code",
   "execution_count": 138,
   "metadata": {},
   "outputs": [
    {
     "data": {
      "text/html": [
       "<div>\n",
       "<style scoped>\n",
       "    .dataframe tbody tr th:only-of-type {\n",
       "        vertical-align: middle;\n",
       "    }\n",
       "\n",
       "    .dataframe tbody tr th {\n",
       "        vertical-align: top;\n",
       "    }\n",
       "\n",
       "    .dataframe thead th {\n",
       "        text-align: right;\n",
       "    }\n",
       "</style>\n",
       "<table border=\"1\" class=\"dataframe\">\n",
       "  <thead>\n",
       "    <tr style=\"text-align: right;\">\n",
       "      <th></th>\n",
       "      <th>TV</th>\n",
       "      <th>Radio</th>\n",
       "      <th>Newspaper</th>\n",
       "      <th>Sales</th>\n",
       "    </tr>\n",
       "  </thead>\n",
       "  <tbody>\n",
       "    <tr>\n",
       "      <th>0</th>\n",
       "      <td>230.1</td>\n",
       "      <td>37.8</td>\n",
       "      <td>69.2</td>\n",
       "      <td>22.1</td>\n",
       "    </tr>\n",
       "    <tr>\n",
       "      <th>1</th>\n",
       "      <td>44.5</td>\n",
       "      <td>39.3</td>\n",
       "      <td>45.1</td>\n",
       "      <td>10.4</td>\n",
       "    </tr>\n",
       "    <tr>\n",
       "      <th>2</th>\n",
       "      <td>17.2</td>\n",
       "      <td>45.9</td>\n",
       "      <td>69.3</td>\n",
       "      <td>12.0</td>\n",
       "    </tr>\n",
       "    <tr>\n",
       "      <th>3</th>\n",
       "      <td>151.5</td>\n",
       "      <td>41.3</td>\n",
       "      <td>58.5</td>\n",
       "      <td>16.5</td>\n",
       "    </tr>\n",
       "    <tr>\n",
       "      <th>4</th>\n",
       "      <td>180.8</td>\n",
       "      <td>10.8</td>\n",
       "      <td>58.4</td>\n",
       "      <td>17.9</td>\n",
       "    </tr>\n",
       "  </tbody>\n",
       "</table>\n",
       "</div>"
      ],
      "text/plain": [
       "      TV  Radio  Newspaper  Sales\n",
       "0  230.1   37.8       69.2   22.1\n",
       "1   44.5   39.3       45.1   10.4\n",
       "2   17.2   45.9       69.3   12.0\n",
       "3  151.5   41.3       58.5   16.5\n",
       "4  180.8   10.8       58.4   17.9"
      ]
     },
     "execution_count": 138,
     "metadata": {},
     "output_type": "execute_result"
    }
   ],
   "source": [
    "data = pd.read_csv('/Users/leonardominski/Documents/Projetos Python/Pesquisa/data/advertising.csv')\n",
    "data.head()"
   ]
  },
  {
   "cell_type": "code",
   "execution_count": 139,
   "metadata": {},
   "outputs": [
    {
     "name": "stdout",
     "output_type": "stream",
     "text": [
      "<class 'pandas.core.frame.DataFrame'>\n",
      "RangeIndex: 200 entries, 0 to 199\n",
      "Data columns (total 4 columns):\n",
      " #   Column     Non-Null Count  Dtype  \n",
      "---  ------     --------------  -----  \n",
      " 0   TV         200 non-null    float64\n",
      " 1   Radio      200 non-null    float64\n",
      " 2   Newspaper  200 non-null    float64\n",
      " 3   Sales      200 non-null    float64\n",
      "dtypes: float64(4)\n",
      "memory usage: 6.4 KB\n"
     ]
    }
   ],
   "source": [
    "data.info()"
   ]
  },
  {
   "cell_type": "code",
   "execution_count": 140,
   "metadata": {},
   "outputs": [
    {
     "data": {
      "text/plain": [
       "(200, 4)"
      ]
     },
     "execution_count": 140,
     "metadata": {},
     "output_type": "execute_result"
    }
   ],
   "source": [
    "x = data.drop(['Sales', 'Newspaper'], axis=1)\n",
    "y = data['Sales']\n",
    "data.shape"
   ]
  },
  {
   "cell_type": "code",
   "execution_count": 141,
   "metadata": {},
   "outputs": [],
   "source": [
    "from sklearn.model_selection import train_test_split \n",
    "\n",
    "x_train, x_test, y_train, y_test = train_test_split(x, y, test_size=0.2, random_state=42)\n",
    "\n",
    "model = keras.Sequential([keras.layers.Dense(units=20, activation ='linear', input_shape=[2,]),\n",
    "                         keras.layers.Dense(units=10, activation='linear'),\n",
    "                         keras.layers.Dense(units=1, activation='linear')])"
   ]
  },
  {
   "cell_type": "code",
   "execution_count": 142,
   "metadata": {},
   "outputs": [
    {
     "name": "stdout",
     "output_type": "stream",
     "text": [
      "Model: \"sequential_12\"\n",
      "_________________________________________________________________\n",
      " Layer (type)                Output Shape              Param #   \n",
      "=================================================================\n",
      " dense_36 (Dense)            (None, 20)                60        \n",
      "                                                                 \n",
      " dense_37 (Dense)            (None, 10)                210       \n",
      "                                                                 \n",
      " dense_38 (Dense)            (None, 1)                 11        \n",
      "                                                                 \n",
      "=================================================================\n",
      "Total params: 281\n",
      "Trainable params: 281\n",
      "Non-trainable params: 0\n",
      "_________________________________________________________________\n"
     ]
    }
   ],
   "source": [
    "model.summary()"
   ]
  },
  {
   "cell_type": "code",
   "execution_count": 143,
   "metadata": {},
   "outputs": [],
   "source": [
    "model.compile(loss='mean_squared_error', optimizer='adam', metrics=['mse'])"
   ]
  },
  {
   "cell_type": "code",
   "execution_count": 144,
   "metadata": {},
   "outputs": [
    {
     "name": "stdout",
     "output_type": "stream",
     "text": [
      "Epoch 1/20\n",
      "5/5 - 0s - loss: 162.7415 - mse: 162.7415 - val_loss: 15.6277 - val_mse: 15.6277 - 299ms/epoch - 60ms/step\n",
      "Epoch 2/20\n",
      "5/5 - 0s - loss: 46.4333 - mse: 46.4333 - val_loss: 84.6636 - val_mse: 84.6636 - 15ms/epoch - 3ms/step\n",
      "Epoch 3/20\n",
      "5/5 - 0s - loss: 57.6869 - mse: 57.6869 - val_loss: 24.1413 - val_mse: 24.1413 - 13ms/epoch - 3ms/step\n",
      "Epoch 4/20\n",
      "5/5 - 0s - loss: 14.8113 - mse: 14.8113 - val_loss: 14.7606 - val_mse: 14.7606 - 13ms/epoch - 3ms/step\n",
      "Epoch 5/20\n",
      "5/5 - 0s - loss: 26.6611 - mse: 26.6611 - val_loss: 14.8005 - val_mse: 14.8005 - 15ms/epoch - 3ms/step\n",
      "Epoch 6/20\n",
      "5/5 - 0s - loss: 14.3977 - mse: 14.3977 - val_loss: 8.1736 - val_mse: 8.1736 - 13ms/epoch - 3ms/step\n",
      "Epoch 7/20\n",
      "5/5 - 0s - loss: 11.2043 - mse: 11.2043 - val_loss: 14.4324 - val_mse: 14.4324 - 15ms/epoch - 3ms/step\n",
      "Epoch 8/20\n",
      "5/5 - 0s - loss: 11.4801 - mse: 11.4801 - val_loss: 7.2810 - val_mse: 7.2810 - 14ms/epoch - 3ms/step\n",
      "Epoch 9/20\n",
      "5/5 - 0s - loss: 8.4360 - mse: 8.4360 - val_loss: 6.1877 - val_mse: 6.1877 - 13ms/epoch - 3ms/step\n",
      "Epoch 10/20\n",
      "5/5 - 0s - loss: 8.5397 - mse: 8.5397 - val_loss: 5.4216 - val_mse: 5.4216 - 13ms/epoch - 3ms/step\n",
      "Epoch 11/20\n",
      "5/5 - 0s - loss: 7.1248 - mse: 7.1248 - val_loss: 7.0226 - val_mse: 7.0226 - 12ms/epoch - 2ms/step\n",
      "Epoch 12/20\n",
      "5/5 - 0s - loss: 7.1083 - mse: 7.1083 - val_loss: 6.1518 - val_mse: 6.1518 - 11ms/epoch - 2ms/step\n",
      "Epoch 13/20\n",
      "5/5 - 0s - loss: 6.5056 - mse: 6.5056 - val_loss: 5.2809 - val_mse: 5.2809 - 13ms/epoch - 3ms/step\n",
      "Epoch 14/20\n",
      "5/5 - 0s - loss: 6.5693 - mse: 6.5693 - val_loss: 5.3325 - val_mse: 5.3325 - 13ms/epoch - 3ms/step\n",
      "Epoch 15/20\n",
      "5/5 - 0s - loss: 6.2855 - mse: 6.2855 - val_loss: 5.9401 - val_mse: 5.9401 - 13ms/epoch - 3ms/step\n",
      "Epoch 16/20\n",
      "5/5 - 0s - loss: 6.3083 - mse: 6.3083 - val_loss: 5.7090 - val_mse: 5.7090 - 14ms/epoch - 3ms/step\n",
      "Epoch 17/20\n",
      "5/5 - 0s - loss: 6.2436 - mse: 6.2436 - val_loss: 5.4901 - val_mse: 5.4901 - 21ms/epoch - 4ms/step\n",
      "Epoch 18/20\n",
      "5/5 - 0s - loss: 6.1825 - mse: 6.1825 - val_loss: 5.5881 - val_mse: 5.5881 - 22ms/epoch - 4ms/step\n",
      "Epoch 19/20\n",
      "5/5 - 0s - loss: 6.2084 - mse: 6.2084 - val_loss: 5.7020 - val_mse: 5.7020 - 13ms/epoch - 3ms/step\n",
      "Epoch 20/20\n",
      "5/5 - 0s - loss: 6.1446 - mse: 6.1446 - val_loss: 5.4885 - val_mse: 5.4885 - 14ms/epoch - 3ms/step\n"
     ]
    },
    {
     "data": {
      "text/plain": [
       "<keras.callbacks.History at 0x293b560d0>"
      ]
     },
     "execution_count": 144,
     "metadata": {},
     "output_type": "execute_result"
    }
   ],
   "source": [
    "model.fit(x_train, y_train, epochs=20, validation_data=(x_test, y_test), verbose=2)"
   ]
  },
  {
   "cell_type": "code",
   "execution_count": 148,
   "metadata": {},
   "outputs": [
    {
     "name": "stdout",
     "output_type": "stream",
     "text": [
      "2/2 [==============================] - 0s 1ms/step\n"
     ]
    }
   ],
   "source": [
    "y_pred = model.predict(x_test)"
   ]
  },
  {
   "cell_type": "code",
   "execution_count": 149,
   "metadata": {},
   "outputs": [
    {
     "name": "stdout",
     "output_type": "stream",
     "text": [
      "[[16.934645 ]\n",
      " [21.968899 ]\n",
      " [25.28924  ]\n",
      " [ 7.4141874]\n",
      " [23.91303  ]]\n",
      "95     16.9\n",
      "15     22.4\n",
      "30     21.4\n",
      "158     7.3\n",
      "128    24.7\n",
      "Name: Sales, dtype: float64\n"
     ]
    }
   ],
   "source": [
    "print(y_pred[:5])\n",
    "print(y_test[:5])"
   ]
  },
  {
   "cell_type": "code",
   "execution_count": 147,
   "metadata": {},
   "outputs": [
    {
     "data": {
      "text/plain": [
       "<matplotlib.collections.PathCollection at 0x29514b880>"
      ]
     },
     "execution_count": 147,
     "metadata": {},
     "output_type": "execute_result"
    },
    {
     "data": {
      "image/png": "[encoded data removed]",
      "text/plain": [
       "<Figure size 800x600 with 3 Axes>"
      ]
     },
     "metadata": {},
     "output_type": "display_data"
    }
   ],
   "source": [
    "fig, axs = plt.subplots(nrows=3, ncols=1, figsize=(8,6))\n",
    "\n",
    "axs[0].scatter(x=data['TV'], y=data['Sales'])\n",
    "axs[1].scatter(x=data['Radio'], y=data['Sales'])\n",
    "axs[2].scatter(x=data['Newspaper'], y=data['Sales'])"
   ]
  },
  {
   "cell_type": "code",
   "execution_count": 166,
   "metadata": {},
   "outputs": [
    {
     "name": "stdout",
     "output_type": "stream",
     "text": [
      "1/1 [==============================] - 0s 18ms/step\n",
      "[[9.218862]]\n"
     ]
    }
   ],
   "source": [
    "print(model.predict([[30,40]]))"
   ]
  }
 ],
 "metadata": {
  "kernelspec": {
   "display_name": "myenv",
   "language": "python",
   "name": "python3"
  },
  "language_info": {
   "codemirror_mode": {
    "name": "ipython",
    "version": 3
   },
   "file_extension": ".py",
   "mimetype": "text/x-python",
   "name": "python",
   "nbconvert_exporter": "python",
   "pygments_lexer": "ipython3",
   "version": "3.9.16"
  },
  "orig_nbformat": 4
 },
 "nbformat": 4,
 "nbformat_minor": 2
}
